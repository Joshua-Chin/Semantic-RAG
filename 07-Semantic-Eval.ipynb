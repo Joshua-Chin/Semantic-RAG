{
 "cells": [
  {
   "cell_type": "markdown",
   "id": "f7ff733d-cf06-48bf-90ae-62c5170816d3",
   "metadata": {},
   "source": [
    "## Load the Dataset"
   ]
  },
  {
   "cell_type": "code",
   "execution_count": 1,
   "id": "7fdf3e3a-23cb-4fa9-9150-17872c8f240e",
   "metadata": {},
   "outputs": [],
   "source": [
    "from lib.load import extract_data, load_benchmark_corpus\n",
    "\n",
    "\n",
    "extract_data()\n",
    "benchmark, corpus = load_benchmark_corpus()"
   ]
  },
  {
   "cell_type": "code",
   "execution_count": 2,
   "id": "51b7c6dc-2094-4f17-a159-69e233957ede",
   "metadata": {},
   "outputs": [
    {
     "data": {
      "application/vnd.jupyter.widget-view+json": {
       "model_id": "5987c46a24c74e94975c1688a90ffeb2",
       "version_major": 2,
       "version_minor": 0
      },
      "text/plain": [
       "Loading checkpoint shards:   0%|          | 0/4 [00:00<?, ?it/s]"
      ]
     },
     "metadata": {},
     "output_type": "display_data"
    },
    {
     "data": {
      "application/vnd.jupyter.widget-view+json": {
       "model_id": "f5c938adfedb4579a2ad9b8094dd1260",
       "version_major": 2,
       "version_minor": 0
      },
      "text/plain": [
       "Batches:   0%|          | 0/6 [00:00<?, ?it/s]"
      ]
     },
     "metadata": {},
     "output_type": "display_data"
    },
    {
     "data": {
      "application/vnd.jupyter.widget-view+json": {
       "model_id": "eb531581ad3d4d78a24a89bf1a2084d6",
       "version_major": 2,
       "version_minor": 0
      },
      "text/plain": [
       "Batches:   0%|          | 0/1 [00:00<?, ?it/s]"
      ]
     },
     "metadata": {},
     "output_type": "display_data"
    },
    {
     "data": {
      "application/vnd.jupyter.widget-view+json": {
       "model_id": "345214052428473aae7ad86d51b9e515",
       "version_major": 2,
       "version_minor": 0
      },
      "text/plain": [
       "Batches:   0%|          | 0/7 [00:00<?, ?it/s]"
      ]
     },
     "metadata": {},
     "output_type": "display_data"
    },
    {
     "data": {
      "application/vnd.jupyter.widget-view+json": {
       "model_id": "965f3fe83e4c441cbcdd36235212decb",
       "version_major": 2,
       "version_minor": 0
      },
      "text/plain": [
       "Batches:   0%|          | 0/13 [00:00<?, ?it/s]"
      ]
     },
     "metadata": {},
     "output_type": "display_data"
    },
    {
     "data": {
      "application/vnd.jupyter.widget-view+json": {
       "model_id": "917d1158feb54e1297d9a6036f5a2d60",
       "version_major": 2,
       "version_minor": 0
      },
      "text/plain": [
       "Batches:   0%|          | 0/7 [00:00<?, ?it/s]"
      ]
     },
     "metadata": {},
     "output_type": "display_data"
    },
    {
     "data": {
      "application/vnd.jupyter.widget-view+json": {
       "model_id": "7dc44ae781824e21a127c27f7f6333b3",
       "version_major": 2,
       "version_minor": 0
      },
      "text/plain": [
       "Batches:   0%|          | 0/7 [00:00<?, ?it/s]"
      ]
     },
     "metadata": {},
     "output_type": "display_data"
    },
    {
     "data": {
      "application/vnd.jupyter.widget-view+json": {
       "model_id": "abfccb23a9f2429d9c4649d9cccdd74e",
       "version_major": 2,
       "version_minor": 0
      },
      "text/plain": [
       "Batches:   0%|          | 0/3 [00:00<?, ?it/s]"
      ]
     },
     "metadata": {},
     "output_type": "display_data"
    },
    {
     "data": {
      "text/plain": [
       "[Document(metadata={'source_file': 'Fiverr.txt', 'start_index': 2}, page_content='At Fiverr we care about your privacy.\\nWe do not sell or rent your personal information to third parties for their direct marketing purposes without your explicit consent.\\nWe do not disclose it to others except as disclosed in this Policy or required to provide you with the services of the Site and mobile applications, meaning - to allow you to buy, sell, share the information you want to share on the Site'),\n",
       " Document(metadata={'source_file': 'Fiverr.txt', 'start_index': 410}, page_content='; to contribute on the forum; pay for products; post reviews and so on; or where we have a legal obligation to do so.'),\n",
       " Document(metadata={'source_file': 'Fiverr.txt', 'start_index': 530}, page_content='We collect information that you provide us or voluntarily share with other users, and also some general technical information that is automatically gathered by our systems, such as IP address, browser information and cookies to enable you to have a better user experience and a more personalized browsing experience.'),\n",
       " Document(metadata={'source_file': 'Fiverr.txt', 'start_index': 849}, page_content='We will not share information that you provide us in the process of the registration - including your contact information - except as described in this Policy.\\n  Information that you choose to publish on the Site (photos, videos, text, music, reviews, deliveries) - is no longer private, just like any information you publish online.\\n  Technical information that is gathered by our systems, or third party systems, automatically may be used for Site operation, optimization, analytics'),\n",
       " Document(metadata={'source_file': 'Fiverr.txt', 'start_index': 1333}, page_content=', content promotion and enhancement of user experience.')]"
      ]
     },
     "execution_count": 2,
     "metadata": {},
     "output_type": "execute_result"
    }
   ],
   "source": [
    "import re\n",
    "\n",
    "import numpy as np\n",
    "from langchain_core.documents import Document\n",
    "from langchain_text_splitters import RecursiveCharacterTextSplitter\n",
    "from sentence_transformers import SentenceTransformer\n",
    "from transformers import BitsAndBytesConfig\n",
    "\n",
    "from lib.util import cleanup\n",
    "\n",
    "\n",
    "text_splitter = RecursiveCharacterTextSplitter(\n",
    "    separators=[\n",
    "        # multiple newlines\n",
    "        r'\\n\\n\\s*',\n",
    "        # single newline\n",
    "        r'\\n\\s*',\n",
    "        # sentence\n",
    "        r'(?<=[.?!])\\s+',\n",
    "        # clauses\n",
    "        ';', ':', ',',\n",
    "    ],\n",
    "    chunk_size=200,\n",
    "    chunk_overlap=0,\n",
    "    add_start_index=True,\n",
    "    is_separator_regex=True,\n",
    ")\n",
    "\n",
    "def create_documents(\n",
    "    texts: list[str],\n",
    "    metadatas: list[dict],\n",
    "    model_path: str=\"Qwen/Qwen3-Embedding-8B\",\n",
    "    pad: int=2,\n",
    "    max_span: int=1000,\n",
    "):\n",
    "    model = SentenceTransformer(\n",
    "        model_path,\n",
    "        model_kwargs={\"quantization_config\": BitsAndBytesConfig(load_in_8bit=True)}\n",
    "    )\n",
    "    documents = []\n",
    "    for text, metadata in zip(texts, metadatas):\n",
    "        chunks = chunk_text(model, text, pad=pad, max_span=max_span)\n",
    "        # transform chunks into documents\n",
    "        for start, end in chunks:\n",
    "            chunk_metadata = dict(metadata)\n",
    "            chunk_metadata['start_index'] = start\n",
    "            documents.append(Document(\n",
    "                page_content=text[start:end],\n",
    "                metadata=chunk_metadata,\n",
    "            ))\n",
    "    del model\n",
    "    cleanup()\n",
    "    return documents\n",
    "        \n",
    "def chunk_text(\n",
    "    model,\n",
    "    text: str,\n",
    "    pad: int=2,\n",
    "    max_span: int=1000,\n",
    "):\n",
    "    # preprocess setences\n",
    "    spans = split_to_spans(text)\n",
    "    windowed_spans = window_spans(spans, pad=pad)\n",
    "    sentence_blocks = [text[start:end] for start, end in windowed_spans]\n",
    "    # generate setence embeddings\n",
    "    embeddings = model.encode(sentence_blocks, show_progress_bar=True)\n",
    "    cleanup()\n",
    "    # split chunks\n",
    "    distances = pairwise_cosine_distances(embeddings)\n",
    "    chunk_spans = split_recursive(spans, distances, max_span)\n",
    "    return chunk_spans\n",
    "\n",
    "def split_to_spans(text):\n",
    "    docs = text_splitter.create_documents([text])\n",
    "    spans = []\n",
    "    for doc in docs:\n",
    "        start = doc.metadata['start_index']\n",
    "        spans.append((start, start + len(doc.page_content)))\n",
    "    return spans\n",
    "\n",
    "def window_spans(spans, pad=2):\n",
    "    combined_spans = []\n",
    "    for i in range(len(spans)):\n",
    "        start = spans[max(0, i - pad)][0]\n",
    "        end = spans[min(len(spans) - 1, i + pad)][1]\n",
    "        combined_spans.append((start, end))\n",
    "    return combined_spans\n",
    "\n",
    "def pairwise_cosine_distances(embeddings):\n",
    "    distances = []\n",
    "    for i in range(len(embeddings) - 1):\n",
    "        distances.append(1 - embeddings[i] @ embeddings[i + 1])\n",
    "    return distances\n",
    "\n",
    "def split_recursive(spans, distances, max_span):\n",
    "    distances = np.asarray(distances)\n",
    "    span_spans = []\n",
    "    def dfs(start, end):\n",
    "        lo = spans[start][0]\n",
    "        hi = spans[end - 1][1]\n",
    "        if (end - start <= 1) or (hi - lo <= max_span):\n",
    "            span_spans.append((lo, hi))\n",
    "        else:\n",
    "            split_idx = start + np.argmax(distances[start:end - 1]) + 1\n",
    "            dfs(start, split_idx)\n",
    "            dfs(split_idx, end)\n",
    "    dfs(0, len(spans))\n",
    "    return span_spans\n",
    "\n",
    "\n",
    "names, texts = zip(*corpus.items())\n",
    "metadatas = [\n",
    "    {\"source_file\": name}\n",
    "    for idx, name in enumerate(names)\n",
    "]\n",
    "\n",
    "documents = create_documents(texts, metadatas, max_span=500)\n",
    "documents[:5]"
   ]
  },
  {
   "cell_type": "code",
   "execution_count": 3,
   "id": "e95391f7-8f99-4256-bbe1-cdc15c094909",
   "metadata": {},
   "outputs": [
    {
     "data": {
      "image/png": "[encoded data removed]",
      "text/plain": [
       "<Figure size 1200x600 with 1 Axes>"
      ]
     },
     "metadata": {},
     "output_type": "display_data"
    }
   ],
   "source": [
    "%matplotlib inline\n",
    "\n",
    "import statistics\n",
    "import matplotlib.pyplot as plt\n",
    "import seaborn as sns\n",
    "\n",
    "\n",
    "sns.set_theme()\n",
    "\n",
    "lengths = [len(doc.page_content) for doc in documents]\n",
    "\n",
    "plt.figure(figsize=(12, 6))\n",
    "sns.histplot(lengths)\n",
    "plt.title(f\"Document Lengths (mean={statistics.mean(lengths):.1f}, median={statistics.median(lengths):.1f})\")\n",
    "plt.show()"
   ]
  },
  {
   "cell_type": "code",
   "execution_count": 4,
   "id": "5255b474-52d3-4d70-af65-b1d2e52620ed",
   "metadata": {},
   "outputs": [
    {
     "data": {
      "application/vnd.jupyter.widget-view+json": {
       "model_id": "19427f3c56774693be730d02d77a2be3",
       "version_major": 2,
       "version_minor": 0
      },
      "text/plain": [
       "Loading checkpoint shards:   0%|          | 0/4 [00:00<?, ?it/s]"
      ]
     },
     "metadata": {},
     "output_type": "display_data"
    },
    {
     "data": {
      "application/vnd.jupyter.widget-view+json": {
       "model_id": "27f02b43f37a45599e489e2841875cbb",
       "version_major": 2,
       "version_minor": 0
      },
      "text/plain": [
       "Batches:   0%|          | 0/22 [00:00<?, ?it/s]"
      ]
     },
     "metadata": {},
     "output_type": "display_data"
    },
    {
     "data": {
      "application/vnd.jupyter.widget-view+json": {
       "model_id": "8e4e455ce2404b3c8c5fe5e3071acd15",
       "version_major": 2,
       "version_minor": 0
      },
      "text/plain": [
       "Batches:   0%|          | 0/7 [00:00<?, ?it/s]"
      ]
     },
     "metadata": {},
     "output_type": "display_data"
    }
   ],
   "source": [
    "def compute_similarities(benchmark, documents):\n",
    "    # Load model\n",
    "    model = SentenceTransformer(\n",
    "        \"Qwen/Qwen3-Embedding-8B\",\n",
    "        model_kwargs={\"quantization_config\": BitsAndBytesConfig(load_in_8bit=True)}\n",
    "    )\n",
    "    # Compute embeddings\n",
    "    document_embeddings = model.encode(\n",
    "        [f\"{document.metadata[\"source_file\"]}: {document.page_content}\" for document in documents],\n",
    "        show_progress_bar=True,\n",
    "    )\n",
    "    query_embeddings = model.encode(\n",
    "        [test['query'] for test in benchmark],\n",
    "        prompt_name=\"query\",\n",
    "        show_progress_bar=True,\n",
    "    )\n",
    "    # Compute similarity\n",
    "    similarities = model.similarity(query_embeddings, document_embeddings)\n",
    "    # Cleanup\n",
    "    del model\n",
    "    cleanup()\n",
    "\n",
    "    return similarities\n",
    "\n",
    "similarities = compute_similarities(benchmark, documents)"
   ]
  },
  {
   "cell_type": "code",
   "execution_count": 5,
   "id": "1abfd515-b788-43b7-9d8b-51f712079385",
   "metadata": {},
   "outputs": [
    {
     "name": "stdout",
     "output_type": "stream",
     "text": [
      "Baseline Evaluation\n",
      "precision @ 1 :  0.2957, recall @ 1 :  0.1218\n",
      "precision @ 2 :  0.2645, recall @ 2 :  0.2110\n",
      "precision @ 4 :  0.2011, recall @ 4 :  0.3141\n",
      "precision @ 8 :  0.1590, recall @ 8 :  0.4742\n",
      "precision @ 16:  0.1176, recall @ 16:  0.6161\n",
      "precision @ 32:  0.0834, recall @ 32:  0.7834\n",
      "precision @ 64:  0.0553, recall @ 64:  0.8854\n",
      "AUC: 0.10835439676176177\n"
     ]
    }
   ],
   "source": [
    "import torch\n",
    "\n",
    "from lib.metrics import print_evaluations\n",
    "\n",
    "\n",
    "ranks = torch.argsort(similarities, descending=True)\n",
    "\n",
    "print(\"Baseline Evaluation\")\n",
    "print_evaluations(benchmark, documents, ranks)"
   ]
  },
  {
   "cell_type": "code",
   "execution_count": 6,
   "id": "29c16a2e-2c5a-4337-b023-d656057aba91",
   "metadata": {},
   "outputs": [
    {
     "data": {
      "application/vnd.jupyter.widget-view+json": {
       "model_id": "10c805726b954e40894782a3d279b321",
       "version_major": 2,
       "version_minor": 0
      },
      "text/plain": [
       "Loading checkpoint shards:   0%|          | 0/2 [00:00<?, ?it/s]"
      ]
     },
     "metadata": {},
     "output_type": "display_data"
    },
    {
     "data": {
      "application/vnd.jupyter.widget-view+json": {
       "model_id": "2d0ab75cef614738a5016cb9493853fc",
       "version_major": 2,
       "version_minor": 0
      },
      "text/plain": [
       "  0%|          | 0/194 [00:00<?, ?it/s]"
      ]
     },
     "metadata": {},
     "output_type": "display_data"
    },
    {
     "name": "stderr",
     "output_type": "stream",
     "text": [
      "/home/joshuachin/miniconda3/envs/RAG-2/lib/python3.12/site-packages/bitsandbytes/autograd/_functions.py:186: UserWarning: MatMul8bitLt: inputs will be cast from torch.bfloat16 to float16 during quantization\n",
      "  warnings.warn(f\"MatMul8bitLt: inputs will be cast from {A.dtype} to float16 during quantization\")\n"
     ]
    }
   ],
   "source": [
    "from tqdm.notebook import tqdm\n",
    "import torch\n",
    "\n",
    "from lib.rerank import Reranker\n",
    "\n",
    "\n",
    "model_path = \"ContextualAI/ctxl-rerank-v2-instruct-multilingual-2b\"\n",
    "TOP_K = 64\n",
    "\n",
    "def rerank(benchmark, documents, ranks, model_path=model_path, topk=TOP_K):\n",
    "    reranker = Reranker(model_path)\n",
    "    \n",
    "    results = []\n",
    "    for idx, (test, doc_idxs) in tqdm(\n",
    "        enumerate(zip(benchmark, ranks)),\n",
    "        total=min(len(benchmark), len(ranks))\n",
    "    ):\n",
    "        result = reranker(\n",
    "            query=benchmark[idx]['query'],\n",
    "            instruction='',\n",
    "            documents=[\n",
    "                f\"{documents[document_idx].metadata[\"source_file\"]}: {documents[document_idx].page_content}\" \n",
    "                for document_idx in ranks[idx, :TOP_K]\n",
    "            ],\n",
    "        )\n",
    "        results.append(result)\n",
    "    \n",
    "        if idx % 8 == 0:\n",
    "            cleanup()\n",
    "    \n",
    "    reranks = []\n",
    "    for idx, result in enumerate(results):\n",
    "        top_documents = ranks[idx, :TOP_K]\n",
    "        base_document_idxs = [int(top_documents[relative_idx]) for score, relative_idx, content in result]\n",
    "        reranks.append(base_document_idxs)\n",
    "    return reranks\n",
    "\n",
    "ranks = torch.argsort(similarities, descending=True)\n",
    "reranks = rerank(benchmark, documents, ranks)"
   ]
  },
  {
   "cell_type": "code",
   "execution_count": 7,
   "id": "095e62c3-52b8-415e-8943-21d0306fdd0b",
   "metadata": {},
   "outputs": [
    {
     "name": "stdout",
     "output_type": "stream",
     "text": [
      "Reranked (K=64) Evaluation\n",
      "precision @ 1 :  0.3873, recall @ 1 :  0.1697\n",
      "precision @ 2 :  0.2953, recall @ 2 :  0.2595\n",
      "precision @ 4 :  0.2276, recall @ 4 :  0.3692\n",
      "precision @ 8 :  0.1670, recall @ 8 :  0.4976\n",
      "precision @ 16:  0.1245, recall @ 16:  0.6574\n",
      "precision @ 32:  0.0854, recall @ 32:  0.8148\n",
      "precision @ 64:  0.0553, recall @ 64:  0.8854\n",
      "AUC: 0.14617356076563495\n"
     ]
    }
   ],
   "source": [
    "print(f\"Reranked (K={TOP_K}) Evaluation\")\n",
    "print_evaluations(benchmark, documents, reranks)"
   ]
  },
  {
   "cell_type": "code",
   "execution_count": null,
   "id": "4881bc88-b162-41a2-b37e-4c45f9718e5f",
   "metadata": {},
   "outputs": [],
   "source": []
  }
 ],
 "metadata": {
  "kernelspec": {
   "display_name": "Python 3 (ipykernel)",
   "language": "python",
   "name": "python3"
  },
  "language_info": {
   "codemirror_mode": {
    "name": "ipython",
    "version": 3
   },
   "file_extension": ".py",
   "mimetype": "text/x-python",
   "name": "python",
   "nbconvert_exporter": "python",
   "pygments_lexer": "ipython3",
   "version": "3.12.0"
  }
 },
 "nbformat": 4,
 "nbformat_minor": 5
}
