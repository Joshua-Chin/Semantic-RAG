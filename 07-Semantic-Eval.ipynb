{
 "cells": [
  {
   "cell_type": "markdown",
   "id": "f7ff733d-cf06-48bf-90ae-62c5170816d3",
   "metadata": {},
   "source": [
    "## Load the Dataset"
   ]
  },
  {
   "cell_type": "code",
   "execution_count": 1,
   "id": "7fdf3e3a-23cb-4fa9-9150-17872c8f240e",
   "metadata": {},
   "outputs": [],
   "source": [
    "from rag.load import extract_data, load_benchmark_corpus\n",
    "\n",
    "\n",
    "extract_data()\n",
    "benchmark, corpus = load_benchmark_corpus()"
   ]
  },
  {
   "cell_type": "code",
   "execution_count": 2,
   "id": "51b7c6dc-2094-4f17-a159-69e233957ede",
   "metadata": {},
   "outputs": [
    {
     "data": {
      "application/vnd.jupyter.widget-view+json": {
       "model_id": "9f429acbb77e42a79a7778e2c2222fc0",
       "version_major": 2,
       "version_minor": 0
      },
      "text/plain": [
       "Loading checkpoint shards:   0%|          | 0/4 [00:00<?, ?it/s]"
      ]
     },
     "metadata": {},
     "output_type": "display_data"
    },
    {
     "data": {
      "application/vnd.jupyter.widget-view+json": {
       "model_id": "0458ba9162b64c8cac855669c165c79d",
       "version_major": 2,
       "version_minor": 0
      },
      "text/plain": [
       "Batches:   0%|          | 0/6 [00:00<?, ?it/s]"
      ]
     },
     "metadata": {},
     "output_type": "display_data"
    },
    {
     "data": {
      "application/vnd.jupyter.widget-view+json": {
       "model_id": "55a5cc95c5d44d839e884eb2c5308a4b",
       "version_major": 2,
       "version_minor": 0
      },
      "text/plain": [
       "Batches:   0%|          | 0/1 [00:00<?, ?it/s]"
      ]
     },
     "metadata": {},
     "output_type": "display_data"
    },
    {
     "data": {
      "application/vnd.jupyter.widget-view+json": {
       "model_id": "90fc821dcf784594aa3af84f364de2f2",
       "version_major": 2,
       "version_minor": 0
      },
      "text/plain": [
       "Batches:   0%|          | 0/6 [00:00<?, ?it/s]"
      ]
     },
     "metadata": {},
     "output_type": "display_data"
    },
    {
     "data": {
      "application/vnd.jupyter.widget-view+json": {
       "model_id": "664005ff11b249a6acf2a44933d51f3c",
       "version_major": 2,
       "version_minor": 0
      },
      "text/plain": [
       "Batches:   0%|          | 0/11 [00:00<?, ?it/s]"
      ]
     },
     "metadata": {},
     "output_type": "display_data"
    },
    {
     "data": {
      "application/vnd.jupyter.widget-view+json": {
       "model_id": "3247466f6c8d44bd97bdea41f58397f7",
       "version_major": 2,
       "version_minor": 0
      },
      "text/plain": [
       "Batches:   0%|          | 0/6 [00:00<?, ?it/s]"
      ]
     },
     "metadata": {},
     "output_type": "display_data"
    },
    {
     "data": {
      "application/vnd.jupyter.widget-view+json": {
       "model_id": "083706fa341b41b8a0fa9e5c71a49853",
       "version_major": 2,
       "version_minor": 0
      },
      "text/plain": [
       "Batches:   0%|          | 0/7 [00:00<?, ?it/s]"
      ]
     },
     "metadata": {},
     "output_type": "display_data"
    },
    {
     "data": {
      "application/vnd.jupyter.widget-view+json": {
       "model_id": "39ece5e019344820be26829efa7ecbe2",
       "version_major": 2,
       "version_minor": 0
      },
      "text/plain": [
       "Batches:   0%|          | 0/3 [00:00<?, ?it/s]"
      ]
     },
     "metadata": {},
     "output_type": "display_data"
    },
    {
     "data": {
      "text/plain": [
       "[Document(metadata={'source_file': 'Fiverr.txt', 'start_index': 0}, page_content='  At Fiverr we care about your privacy.'),\n",
       " Document(metadata={'source_file': 'Fiverr.txt', 'start_index': 40}, page_content='We do not sell or rent your personal information to third parties for their direct marketing purposes without your explicit consent.\\nWe do not disclose it to others except as disclosed in this Policy or required to provide you with the services of the Site and mobile applications, meaning - to allow you to buy, sell, share the information you want to share on the Site; to contribute on the forum; pay for products; post reviews and so on; or where we have a legal obligation to do so.'),\n",
       " Document(metadata={'source_file': 'Fiverr.txt', 'start_index': 528}, page_content='  We collect information that you provide us or voluntarily share with other users, and also some general technical information that is automatically gathered by our systems, such as IP address, browser information and cookies to enable you to have a better user experience and a more personalized browsing experience.\\n  We will not share information that you provide us in the process of the registration - including your contact information - except as described in this Policy.'),\n",
       " Document(metadata={'source_file': 'Fiverr.txt', 'start_index': 1009}, page_content='  Information that you choose to publish on the Site (photos, videos, text, music, reviews, deliveries) - is no longer private, just like any information you publish online.\\n  Technical information that is gathered by our systems, or third party systems, automatically may be used for Site operation, optimization, analytics, content promotion and enhancement of user experience.'),\n",
       " Document(metadata={'source_file': 'Fiverr.txt', 'start_index': 1389}, page_content='We may use your information to contact you - to provide notices related to your activities, or offer you promotions and general updates, but we will not let any other person, including sellers and buyers, contact you, other than through your user profile on the Site.')]"
      ]
     },
     "execution_count": 2,
     "metadata": {},
     "output_type": "execute_result"
    }
   ],
   "source": [
    "import re\n",
    "from typing import List, Tuple\n",
    "\n",
    "import numpy as np\n",
    "\n",
    "from langchain_core.documents import Document\n",
    "from langchain_text_splitters import RecursiveCharacterTextSplitter\n",
    "from sentence_transformers import SentenceTransformer\n",
    "from transformers import BitsAndBytesConfig\n",
    "\n",
    "from rag.util import cleanup\n",
    "\n",
    "\n",
    "def create_documents(\n",
    "    texts: list[str],\n",
    "    metadatas: list[dict],\n",
    "    model_path: str=\"Qwen/Qwen3-Embedding-8B\",\n",
    "    pad: int=2,\n",
    "    max_span: int=1000,\n",
    "):\n",
    "    model = SentenceTransformer(\n",
    "        model_path,\n",
    "        model_kwargs={\"quantization_config\": BitsAndBytesConfig(load_in_8bit=True)}\n",
    "    )\n",
    "    documents = []\n",
    "    for text, metadata in zip(texts, metadatas):\n",
    "        chunks = chunk_text(model, text, pad=pad, max_span=max_span)\n",
    "        # transform chunks into documents\n",
    "        for start, end in chunks:\n",
    "            chunk_metadata = dict(metadata)\n",
    "            chunk_metadata['start_index'] = start\n",
    "            documents.append(Document(\n",
    "                page_content=text[start:end],\n",
    "                metadata=chunk_metadata,\n",
    "            ))\n",
    "    del model\n",
    "    cleanup()\n",
    "    return documents\n",
    "        \n",
    "def chunk_text(\n",
    "    model,\n",
    "    text: str,\n",
    "    pad: int=2,\n",
    "    max_span: int=1000,\n",
    "):\n",
    "    # preprocess setences\n",
    "    spans = split_to_spans(text)\n",
    "    windowed_spans = window_spans(spans, pad=pad)\n",
    "    sentence_blocks = [text[start:end] for start, end in windowed_spans]\n",
    "    # generate setence embeddings\n",
    "    embeddings = model.encode(sentence_blocks, show_progress_bar=True)\n",
    "    cleanup()\n",
    "    # split chunks\n",
    "    distances = pairwise_cosine_distances(embeddings)\n",
    "    chunk_spans = split_recursive(spans, distances, max_span)\n",
    "    return chunk_spans\n",
    "\n",
    "def split_to_spans(text: str) -> List[Tuple[int, int]]:\n",
    "    \"\"\"\n",
    "    Splits a text into spans, first by newline characters unconditionally,\n",
    "    and then by other separators for chunks that are too large.\n",
    "\n",
    "    Args:\n",
    "        text: The input string to split.\n",
    "\n",
    "    Returns:\n",
    "        A list of tuples, where each tuple is a (start, end) span of a chunk.\n",
    "    \"\"\"\n",
    "    chunk_size = 200\n",
    "\n",
    "    lines = text.splitlines(keepends=True)\n",
    "    initial_spans = []\n",
    "    current_offset = 0\n",
    "    for line in lines:\n",
    "        start = current_offset\n",
    "        end = start + len(line)\n",
    "        line_content_end = end\n",
    "        if line.endswith('\\n'):\n",
    "            line_content_end -= 1\n",
    "        if start < line_content_end:\n",
    "            initial_spans.append((start, line_content_end))\n",
    "        current_offset = end\n",
    "\n",
    "    # Stage 2: For any chunk that is larger than the chunk_size, split it further\n",
    "    # using the remaining separators.\n",
    "    remaining_separators = [\n",
    "        # Sentence boundaries\n",
    "        r'(?<=[.?!])\\s+',\n",
    "        # Clause boundaries\n",
    "        # ';',\n",
    "        # ':', ',',\n",
    "    ]\n",
    "    secondary_splitter = RecursiveCharacterTextSplitter(\n",
    "        separators=remaining_separators,\n",
    "        chunk_size=chunk_size,\n",
    "        chunk_overlap=0,\n",
    "        add_start_index=True,\n",
    "        is_separator_regex=True,\n",
    "    )\n",
    "\n",
    "    final_spans = []\n",
    "    for start, end in initial_spans:\n",
    "        chunk_text = text[start:end]\n",
    "        if len(chunk_text) <= chunk_size:\n",
    "            if chunk_text.strip():\n",
    "                final_spans.append((start, end))\n",
    "        else:\n",
    "            doc = Document(page_content=chunk_text)\n",
    "            sub_docs = secondary_splitter.split_documents([doc])\n",
    "            for sub_doc in sub_docs:\n",
    "                sub_chunk_start_relative = sub_doc.metadata.get('start_index', 0)\n",
    "                sub_chunk_text = sub_doc.page_content\n",
    "                sub_chunk_end_relative = sub_chunk_start_relative + len(sub_chunk_text)\n",
    "                final_start = start + sub_chunk_start_relative\n",
    "                final_end = start + sub_chunk_end_relative\n",
    "                final_spans.append((final_start, final_end))\n",
    "\n",
    "    return final_spans\n",
    "\n",
    "def window_spans(spans, pad=2):\n",
    "    combined_spans = []\n",
    "    for i in range(len(spans)):\n",
    "        start = spans[max(0, i - pad)][0]\n",
    "        end = spans[min(len(spans) - 1, i + pad)][1]\n",
    "        combined_spans.append((start, end))\n",
    "    return combined_spans\n",
    "\n",
    "def pairwise_cosine_distances(embeddings):\n",
    "    distances = []\n",
    "    for i in range(len(embeddings) - 1):\n",
    "        distances.append(1 - embeddings[i] @ embeddings[i + 1])\n",
    "    return distances\n",
    "\n",
    "def split_recursive(spans, distances, max_span):\n",
    "    distances = np.asarray(distances)\n",
    "    span_spans = []\n",
    "    def dfs(start, end):\n",
    "        lo = spans[start][0]\n",
    "        hi = spans[end - 1][1]\n",
    "        if (end - start <= 1) or (hi - lo <= max_span):\n",
    "            span_spans.append((lo, hi))\n",
    "        else:\n",
    "            split_idx = start + np.argmax(distances[start:end - 1]) + 1\n",
    "            dfs(start, split_idx)\n",
    "            dfs(split_idx, end)\n",
    "    dfs(0, len(spans))\n",
    "    return span_spans\n",
    "\n",
    "\n",
    "names, texts = zip(*corpus.items())\n",
    "metadatas = [\n",
    "    {\"source_file\": name}\n",
    "    for idx, name in enumerate(names)\n",
    "]\n",
    "\n",
    "documents = create_documents(texts, metadatas, max_span=500)\n",
    "documents[:5]"
   ]
  },
  {
   "cell_type": "code",
   "execution_count": 3,
   "id": "e95391f7-8f99-4256-bbe1-cdc15c094909",
   "metadata": {},
   "outputs": [
    {
     "data": {
      "image/png": "[encoded data removed]",
      "text/plain": [
       "<Figure size 1200x600 with 1 Axes>"
      ]
     },
     "metadata": {},
     "output_type": "display_data"
    }
   ],
   "source": [
    "%matplotlib inline\n",
    "\n",
    "import statistics\n",
    "import matplotlib.pyplot as plt\n",
    "import seaborn as sns\n",
    "\n",
    "\n",
    "sns.set_theme()\n",
    "\n",
    "lengths = [len(doc.page_content) for doc in documents]\n",
    "\n",
    "plt.figure(figsize=(12, 6))\n",
    "sns.histplot(lengths)\n",
    "plt.title(f\"Document Lengths (mean={statistics.mean(lengths):.1f}, median={statistics.median(lengths):.1f})\")\n",
    "plt.show()"
   ]
  },
  {
   "cell_type": "code",
   "execution_count": 4,
   "id": "5255b474-52d3-4d70-af65-b1d2e52620ed",
   "metadata": {},
   "outputs": [
    {
     "data": {
      "application/vnd.jupyter.widget-view+json": {
       "model_id": "77fc2363afbd42178ba983e1edcb6e0a",
       "version_major": 2,
       "version_minor": 0
      },
      "text/plain": [
       "Loading checkpoint shards:   0%|          | 0/4 [00:00<?, ?it/s]"
      ]
     },
     "metadata": {},
     "output_type": "display_data"
    },
    {
     "data": {
      "application/vnd.jupyter.widget-view+json": {
       "model_id": "bd504f12189d40108d9e01b2fb6ebbde",
       "version_major": 2,
       "version_minor": 0
      },
      "text/plain": [
       "Batches:   0%|          | 0/21 [00:00<?, ?it/s]"
      ]
     },
     "metadata": {},
     "output_type": "display_data"
    },
    {
     "data": {
      "application/vnd.jupyter.widget-view+json": {
       "model_id": "823119b6ccd3459d95b1eb616bbcfeda",
       "version_major": 2,
       "version_minor": 0
      },
      "text/plain": [
       "Batches:   0%|          | 0/7 [00:00<?, ?it/s]"
      ]
     },
     "metadata": {},
     "output_type": "display_data"
    }
   ],
   "source": [
    "def compute_similarities(benchmark, documents):\n",
    "    # Load model\n",
    "    model = SentenceTransformer(\n",
    "        \"Qwen/Qwen3-Embedding-8B\",\n",
    "        model_kwargs={\"quantization_config\": BitsAndBytesConfig(load_in_8bit=True)}\n",
    "    )\n",
    "    # Compute embeddings\n",
    "    document_embeddings = model.encode(\n",
    "        [f\"{document.metadata[\"source_file\"]}: {document.page_content}\" for document in documents],\n",
    "        show_progress_bar=True,\n",
    "    )\n",
    "    query_embeddings = model.encode(\n",
    "        [test['query'] for test in benchmark],\n",
    "        prompt_name=\"query\",\n",
    "        show_progress_bar=True,\n",
    "    )\n",
    "    # Compute similarity\n",
    "    similarities = model.similarity(query_embeddings, document_embeddings)\n",
    "    # Cleanup\n",
    "    del model\n",
    "    cleanup()\n",
    "\n",
    "    return similarities\n",
    "\n",
    "similarities = compute_similarities(benchmark, documents)"
   ]
  },
  {
   "cell_type": "code",
   "execution_count": 6,
   "id": "1abfd515-b788-43b7-9d8b-51f712079385",
   "metadata": {},
   "outputs": [
    {
     "name": "stdout",
     "output_type": "stream",
     "text": [
      "Baseline Evaluation\n",
      "precision @ 1 :  0.2792, recall @ 1 :  0.1391\n",
      "precision @ 2 :  0.2315, recall @ 2 :  0.1941\n",
      "precision @ 4 :  0.1985, recall @ 4 :  0.2815\n",
      "precision @ 8 :  0.1567, recall @ 8 :  0.4318\n",
      "precision @ 16:  0.1129, recall @ 16:  0.5714\n",
      "precision @ 32:  0.0832, recall @ 32:  0.7550\n",
      "precision @ 64:  0.0560, recall @ 64:  0.9118\n",
      "AUC: 0.09505790538681338\n"
     ]
    }
   ],
   "source": [
    "import torch\n",
    "\n",
    "from rag.metrics import print_evaluations\n",
    "\n",
    "\n",
    "ranks = torch.argsort(similarities, descending=True)\n",
    "\n",
    "print(\"Baseline Evaluation\")\n",
    "print_evaluations(benchmark, documents, ranks)"
   ]
  },
  {
   "cell_type": "code",
   "execution_count": 11,
   "id": "29c16a2e-2c5a-4337-b023-d656057aba91",
   "metadata": {},
   "outputs": [
    {
     "data": {
      "application/vnd.jupyter.widget-view+json": {
       "model_id": "34e0240b33c64f61968294c0f6532ec6",
       "version_major": 2,
       "version_minor": 0
      },
      "text/plain": [
       "Loading checkpoint shards:   0%|          | 0/2 [00:00<?, ?it/s]"
      ]
     },
     "metadata": {},
     "output_type": "display_data"
    },
    {
     "data": {
      "application/vnd.jupyter.widget-view+json": {
       "model_id": "945c32c5b5ec4aba83b4619ff623d8c3",
       "version_major": 2,
       "version_minor": 0
      },
      "text/plain": [
       "  0%|          | 0/194 [00:00<?, ?it/s]"
      ]
     },
     "metadata": {},
     "output_type": "display_data"
    },
    {
     "name": "stderr",
     "output_type": "stream",
     "text": [
      "/home/joshuachin/miniconda3/envs/RAG-2/lib/python3.12/site-packages/bitsandbytes/autograd/_functions.py:186: UserWarning: MatMul8bitLt: inputs will be cast from torch.bfloat16 to float16 during quantization\n",
      "  warnings.warn(f\"MatMul8bitLt: inputs will be cast from {A.dtype} to float16 during quantization\")\n"
     ]
    }
   ],
   "source": [
    "from tqdm.notebook import tqdm\n",
    "import torch\n",
    "\n",
    "from rag.rerank import Reranker\n",
    "\n",
    "\n",
    "model_path = \"ContextualAI/ctxl-rerank-v2-instruct-multilingual-2b\"\n",
    "TOP_K = 64\n",
    "\n",
    "def rerank(benchmark, documents, ranks, model_path=model_path, topk=TOP_K):\n",
    "    reranker = Reranker(model_path)\n",
    "    \n",
    "    results = []\n",
    "    for idx, (test, doc_idxs) in tqdm(\n",
    "        enumerate(zip(benchmark, ranks)),\n",
    "        total=min(len(benchmark), len(ranks))\n",
    "    ):\n",
    "        result = reranker(\n",
    "            query=benchmark[idx]['query'],\n",
    "            instruction='',\n",
    "            documents=[\n",
    "                f\"{documents[document_idx].metadata[\"source_file\"]}: {documents[document_idx].page_content}\" \n",
    "                for document_idx in ranks[idx, :TOP_K]\n",
    "            ],\n",
    "        )\n",
    "        results.append(result)\n",
    "    \n",
    "        if idx % 8 == 0:\n",
    "            cleanup()\n",
    "    \n",
    "    reranks = []\n",
    "    for idx, result in enumerate(results):\n",
    "        top_documents = ranks[idx, :TOP_K]\n",
    "        base_document_idxs = [int(top_documents[relative_idx]) for score, relative_idx, content in result]\n",
    "        reranks.append(base_document_idxs)\n",
    "    return reranks\n",
    "\n",
    "ranks = torch.argsort(similarities, descending=True)\n",
    "reranks = rerank(benchmark, documents, ranks)"
   ]
  },
  {
   "cell_type": "code",
   "execution_count": 9,
   "id": "095e62c3-52b8-415e-8943-21d0306fdd0b",
   "metadata": {},
   "outputs": [
    {
     "name": "stdout",
     "output_type": "stream",
     "text": [
      "Reranked (K=64) Evaluation\n",
      "precision @ 1 :  0.3503, recall @ 1 :  0.1872\n",
      "precision @ 2 :  0.3093, recall @ 2 :  0.2701\n",
      "precision @ 4 :  0.2496, recall @ 4 :  0.3711\n",
      "precision @ 8 :  0.1868, recall @ 8 :  0.5255\n",
      "precision @ 16:  0.1314, recall @ 16:  0.6640\n",
      "precision @ 32:  0.0868, recall @ 32:  0.8110\n",
      "precision @ 64:  0.0560, recall @ 64:  0.9118\n",
      "AUC: 0.14905464393659612\n"
     ]
    }
   ],
   "source": [
    "print(f\"Reranked (K={TOP_K}) Evaluation\")\n",
    "print_evaluations(benchmark, documents, reranks)"
   ]
  },
  {
   "cell_type": "code",
   "execution_count": null,
   "id": "4734982e-f33c-464d-a7da-7f642a80b1ce",
   "metadata": {},
   "outputs": [],
   "source": []
  }
 ],
 "metadata": {
  "kernelspec": {
   "display_name": "Python 3 (ipykernel)",
   "language": "python",
   "name": "python3"
  },
  "language_info": {
   "codemirror_mode": {
    "name": "ipython",
    "version": 3
   },
   "file_extension": ".py",
   "mimetype": "text/x-python",
   "name": "python",
   "nbconvert_exporter": "python",
   "pygments_lexer": "ipython3",
   "version": "3.12.0"
  }
 },
 "nbformat": 4,
 "nbformat_minor": 5
}
