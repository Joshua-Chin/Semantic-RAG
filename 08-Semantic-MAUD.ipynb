{
 "cells": [
  {
   "cell_type": "markdown",
   "id": "f7ff733d-cf06-48bf-90ae-62c5170816d3",
   "metadata": {},
   "source": [
    "## Load the Dataset"
   ]
  },
  {
   "cell_type": "code",
   "execution_count": 1,
   "id": "7fdf3e3a-23cb-4fa9-9150-17872c8f240e",
   "metadata": {},
   "outputs": [],
   "source": [
    "import json\n",
    "import os\n",
    "import random\n",
    "\n",
    "from lib.load import extract_data, LEGALBENCH_RAG_PATH\n",
    "\n",
    "\n",
    "extract_data()\n",
    "\n",
    "def load_benchmark_corpus(subset=\"maud\"):\n",
    "    with open(os.path.join(LEGALBENCH_RAG_PATH, \"benchmarks\", f\"{subset}.json\")) as f:\n",
    "        benchmark = json.load(f)['tests']\n",
    "    \n",
    "    corpus = {}\n",
    "    corpus_path = os.path.join(LEGALBENCH_RAG_PATH, \"corpus\", subset)\n",
    "\n",
    "    random.seed(42)\n",
    "    \n",
    "    for document in random.sample(os.listdir(corpus_path), 5):\n",
    "        with open(os.path.join(corpus_path, document)) as f:\n",
    "            corpus[document] = f.read()\n",
    "\n",
    "    benchmark_sample = []\n",
    "    for test in benchmark:\n",
    "        file_path = test[\"snippets\"][0][\"file_path\"]\n",
    "        filename = os.path.basename(file_path)\n",
    "        if filename in corpus:\n",
    "            benchmark_sample.append(test)\n",
    "            \n",
    "    return benchmark_sample, corpus\n",
    "benchmark, corpus = load_benchmark_corpus()"
   ]
  },
  {
   "cell_type": "code",
   "execution_count": 2,
   "id": "51b7c6dc-2094-4f17-a159-69e233957ede",
   "metadata": {},
   "outputs": [
    {
     "data": {
      "application/vnd.jupyter.widget-view+json": {
       "model_id": "5d9eae3f31954691ba92c52a4249a300",
       "version_major": 2,
       "version_minor": 0
      },
      "text/plain": [
       "Batches:   0%|          | 0/30 [00:00<?, ?it/s]"
      ]
     },
     "metadata": {},
     "output_type": "display_data"
    },
    {
     "data": {
      "application/vnd.jupyter.widget-view+json": {
       "model_id": "b2d7c8c3fbc6429d8f19f42b0cc079ff",
       "version_major": 2,
       "version_minor": 0
      },
      "text/plain": [
       "Batches:   0%|          | 0/25 [00:00<?, ?it/s]"
      ]
     },
     "metadata": {},
     "output_type": "display_data"
    },
    {
     "data": {
      "application/vnd.jupyter.widget-view+json": {
       "model_id": "d3e886820d9b4c708fb8f6cf198db3d4",
       "version_major": 2,
       "version_minor": 0
      },
      "text/plain": [
       "Batches:   0%|          | 0/34 [00:00<?, ?it/s]"
      ]
     },
     "metadata": {},
     "output_type": "display_data"
    },
    {
     "data": {
      "application/vnd.jupyter.widget-view+json": {
       "model_id": "744725d4811a45209302ea00e3587fac",
       "version_major": 2,
       "version_minor": 0
      },
      "text/plain": [
       "Batches:   0%|          | 0/29 [00:00<?, ?it/s]"
      ]
     },
     "metadata": {},
     "output_type": "display_data"
    },
    {
     "data": {
      "application/vnd.jupyter.widget-view+json": {
       "model_id": "e95ee73efaf44f5db8951ef05461d9e5",
       "version_major": 2,
       "version_minor": 0
      },
      "text/plain": [
       "Batches:   0%|          | 0/32 [00:00<?, ?it/s]"
      ]
     },
     "metadata": {},
     "output_type": "display_data"
    },
    {
     "data": {
      "text/plain": [
       "[Document(metadata={'source_file': 'Domtar Corporation_Paper Excellence Canada Group.txt', 'start_index': 0}, page_content='\\ufeffExhibit 2.1 \\n\\n\\nExecution Version     AGREEMENT AND PLAN OF MERGER \\n\\n\\namong \\n\\n\\nDOMTAR CORPORATION, \\n\\n\\nKARTA HALTEN B.V., \\n\\n\\nand \\n\\n\\nPEARL MERGER SUB INC. \\n\\n\\nand \\n\\n\\nPAPER EXCELLENCE B.V. \\n\\n\\nand \\n\\n\\nHERVEY INVESTMENTS B.V. \\n\\n\\nDated as of May 10, 2021    '),\n",
       " Document(metadata={'source_file': 'Domtar Corporation_Paper Excellence Canada Group.txt', 'start_index': 259}, page_content='________________'),\n",
       " Document(metadata={'source_file': 'Domtar Corporation_Paper Excellence Canada Group.txt', 'start_index': 278}, page_content='TABLE OF CONTENTS         Page  ARTICLE I    DEFINITIONS    Section 1.1   Definitions    6  Section 1.2   Table of Definitions    20  Section 1.3   Other Definitional and Interpretative Provisions    22  ARTICLE II    THE MERGER; EFFECT ON THE CAPITAL STOCK; PAYMENT    Section 2.1   The Merger    23  Section 2.2   Closing    23  Section 2.3   Effective Time    23  Section 2.4   Surviving Corporation Matters    24  Section 2.5   Effect of the Merger on Capital Stock of the Company and Merger Sub    24  Section 2.6   Certain Adjustments    25  Section 2.7   Appraisal Shares    25  Section 2.8   Payment for Company Stock    25  Section 2.9   Further Assurances    28  Section 2.10  Treatment of Company Awards    28  Section 2.11  Withholding    30  Section 2.12  Escrow Deposit and Release    30  Section 2.13  FIRPTA Certificate    30  ARTICLE III    REPRESENTATIONS AND WARRANTIES OF THE COMPANY    Section 3.1   Corporate Existence and Power    31  Section 3.2   Corporate Authorization    31  Section 3.3   Governmental Authorization    32  Section 3.4   Non-Contravention    32  Section 3.5   Capitalization    33  Section 3.6   Subsidiaries    34  Section 3.7   SEC Filings; the Sarbanes-Oxley Act; Related Party Transactions    35  Section 3.8   Financial Statements    36  Section 3.9   Information Supplied    37  Section 3.10  Absence of Certain Changes    37  Section 3.11  No Undisclosed Material Liabilities    37  Section 3.12  Compliance with Laws and Court Orders; Governmental Authorizations    38  Section 3.13  Litigation    38    i'),\n",
       " Document(metadata={'source_file': 'Domtar Corporation_Paper Excellence Canada Group.txt', 'start_index': 1844}, page_content='________________'),\n",
       " Document(metadata={'source_file': 'Domtar Corporation_Paper Excellence Canada Group.txt', 'start_index': 1863}, page_content='Section 3.14  Properties    38  Section 3.15  Intellectual Property    40  Section 3.16  Data Privacy and Security    42  Section 3.17  Taxes    42  Section 3.18  Employee Benefit Plans    44  Section 3.19  Employees; Labor Matters    47  Section 3.20  Environmental Matters    48  Section 3.21  Material Contracts    49  Section 3.22  Customers; Suppliers    51  Section 3.23  Finders’ Fee, etc    52  Section 3.24  Opinion of Financial Advisor    52  Section 3.25  Antitakeover Statutes    52  Section 3.26  Certain Business Practices    52  Section 3.27  Insurance    53  Section 3.28  Aboriginal Matters    53  Section 3.29  No Additional Representations; Acknowledgment    53 ARTICLE IV    REPRESENTATIONS AND WARRANTIES OF PARENT AND MERGER SUB    Section 4.1   Corporate Existence    54  Section 4.2   Corporate Power and Authorization; Merger Sub    54  Section 4.3   Governmental Authorization    55  Section 4.4   Non-Contravention    55  Section 4.5   Information Supplied    55  Section 4.6   Financing    56  Section 4.7   Solvency    57  Section 4.8   Litigation    57  Section 4.9   Share Ownership    58  Section 4.10  Finders’ Fee, etc.')]"
      ]
     },
     "execution_count": 2,
     "metadata": {},
     "output_type": "execute_result"
    }
   ],
   "source": [
    "import re\n",
    "from typing import List, Tuple\n",
    "\n",
    "import numpy as np\n",
    "\n",
    "from langchain_core.documents import Document\n",
    "from langchain_text_splitters import RecursiveCharacterTextSplitter\n",
    "from sentence_transformers import SentenceTransformer\n",
    "from transformers import BitsAndBytesConfig\n",
    "\n",
    "from lib.util import cleanup\n",
    "\n",
    "\n",
    "def create_documents(\n",
    "    texts: list[str],\n",
    "    metadatas: list[dict],\n",
    "    model_path: str=\"Qwen/Qwen3-Embedding-0.6B\",\n",
    "    pad: int=2,\n",
    "    max_span: int=1000,\n",
    "):\n",
    "    model = SentenceTransformer(\n",
    "        model_path,\n",
    "        model_kwargs={\"quantization_config\": BitsAndBytesConfig(load_in_8bit=True)}\n",
    "    )\n",
    "    documents = []\n",
    "    for text, metadata in zip(texts, metadatas):\n",
    "        chunks = chunk_text(model, text, pad=pad, max_span=max_span)\n",
    "        # transform chunks into documents\n",
    "        for start, end in chunks:\n",
    "            chunk_metadata = dict(metadata)\n",
    "            chunk_metadata['start_index'] = start\n",
    "            documents.append(Document(\n",
    "                page_content=text[start:end],\n",
    "                metadata=chunk_metadata,\n",
    "            ))\n",
    "    del model\n",
    "    cleanup()\n",
    "    return documents\n",
    "        \n",
    "def chunk_text(\n",
    "    model,\n",
    "    text: str,\n",
    "    pad: int=2,\n",
    "    max_span: int=1000,\n",
    "):\n",
    "    # preprocess setences\n",
    "    spans = split_to_spans(text)\n",
    "    windowed_spans = window_spans(spans, pad=pad)\n",
    "    sentence_blocks = [text[start:end] for start, end in windowed_spans]\n",
    "    # generate setence embeddings\n",
    "    embeddings = model.encode(sentence_blocks, show_progress_bar=True)\n",
    "    cleanup()\n",
    "    # split chunks\n",
    "    distances = pairwise_cosine_distances(embeddings)\n",
    "    chunk_spans = split_recursive(spans, distances, max_span)\n",
    "    return chunk_spans\n",
    "\n",
    "\n",
    "def split_to_spans(text: str) -> List[Tuple[int, int]]:\n",
    "    \"\"\"\n",
    "    Splits a text into spans, first by newline characters unconditionally,\n",
    "    and then by other separators for chunks that are too large.\n",
    "\n",
    "    Args:\n",
    "        text: The input string to split.\n",
    "\n",
    "    Returns:\n",
    "        A list of tuples, where each tuple is a (start, end) span of a chunk.\n",
    "    \"\"\"\n",
    "    chunk_size = 200\n",
    "\n",
    "    lines = text.splitlines(keepends=True)\n",
    "    initial_spans = []\n",
    "    current_offset = 0\n",
    "    for line in lines:\n",
    "        start = current_offset\n",
    "        end = start + len(line)\n",
    "        line_content_end = end\n",
    "        if line.endswith('\\n'):\n",
    "            line_content_end -= 1\n",
    "        if start < line_content_end:\n",
    "            initial_spans.append((start, line_content_end))\n",
    "        current_offset = end\n",
    "\n",
    "    # Stage 2: For any chunk that is larger than the chunk_size, split it further\n",
    "    # using the remaining separators.\n",
    "    remaining_separators = [\n",
    "        # Sentence boundaries\n",
    "        r'(?<=[.?!])\\s+',\n",
    "        # Clause boundaries\n",
    "        # ';',\n",
    "        # ':', ',',\n",
    "    ]\n",
    "    secondary_splitter = RecursiveCharacterTextSplitter(\n",
    "        separators=remaining_separators,\n",
    "        chunk_size=chunk_size,\n",
    "        chunk_overlap=0,\n",
    "        add_start_index=True,\n",
    "        is_separator_regex=True,\n",
    "    )\n",
    "\n",
    "    final_spans = []\n",
    "    for start, end in initial_spans:\n",
    "        chunk_text = text[start:end]\n",
    "        if len(chunk_text) <= chunk_size:\n",
    "            if chunk_text.strip():\n",
    "                final_spans.append((start, end))\n",
    "        else:\n",
    "            doc = Document(page_content=chunk_text)\n",
    "            sub_docs = secondary_splitter.split_documents([doc])\n",
    "            for sub_doc in sub_docs:\n",
    "                sub_chunk_start_relative = sub_doc.metadata.get('start_index', 0)\n",
    "                sub_chunk_text = sub_doc.page_content\n",
    "                sub_chunk_end_relative = sub_chunk_start_relative + len(sub_chunk_text)\n",
    "                final_start = start + sub_chunk_start_relative\n",
    "                final_end = start + sub_chunk_end_relative\n",
    "                final_spans.append((final_start, final_end))\n",
    "\n",
    "    return final_spans\n",
    "\n",
    "def window_spans(spans, pad=2):\n",
    "    combined_spans = []\n",
    "    for i in range(len(spans)):\n",
    "        start = spans[max(0, i - pad)][0]\n",
    "        end = spans[min(len(spans) - 1, i + pad)][1]\n",
    "        combined_spans.append((start, end))\n",
    "    return combined_spans\n",
    "\n",
    "def pairwise_cosine_distances(embeddings):\n",
    "    distances = []\n",
    "    for i in range(len(embeddings) - 1):\n",
    "        distances.append(1 - embeddings[i] @ embeddings[i + 1])\n",
    "    return distances\n",
    "\n",
    "def split_recursive(spans, distances, max_span):\n",
    "    distances = np.asarray(distances)\n",
    "    span_spans = []\n",
    "    def dfs(start, end):\n",
    "        lo = spans[start][0]\n",
    "        hi = spans[end - 1][1]\n",
    "        if (end - start <= 1) or (hi - lo <= max_span):\n",
    "            span_spans.append((lo, hi))\n",
    "        else:\n",
    "            split_idx = start + np.argmax(distances[start:end - 1]) + 1\n",
    "            dfs(start, split_idx)\n",
    "            dfs(split_idx, end)\n",
    "    dfs(0, len(spans))\n",
    "    return span_spans\n",
    "\n",
    "\n",
    "names, texts = zip(*corpus.items())\n",
    "metadatas = [\n",
    "    {\"source_file\": name}\n",
    "    for idx, name in enumerate(names)\n",
    "]\n",
    "\n",
    "documents = create_documents(texts, metadatas, max_span=500, pad=1)\n",
    "documents[:5]"
   ]
  },
  {
   "cell_type": "code",
   "execution_count": 3,
   "id": "e95391f7-8f99-4256-bbe1-cdc15c094909",
   "metadata": {},
   "outputs": [
    {
     "data": {
      "image/png": "[encoded data removed]",
      "text/plain": [
       "<Figure size 1200x600 with 1 Axes>"
      ]
     },
     "metadata": {},
     "output_type": "display_data"
    }
   ],
   "source": [
    "%matplotlib inline\n",
    "\n",
    "import statistics\n",
    "import matplotlib.pyplot as plt\n",
    "import seaborn as sns\n",
    "\n",
    "\n",
    "sns.set_theme()\n",
    "\n",
    "lengths = [len(doc.page_content) for doc in documents]\n",
    "\n",
    "plt.figure(figsize=(12, 6))\n",
    "sns.histplot(lengths)\n",
    "plt.title(f\"Document Lengths (mean={statistics.mean(lengths):.1f}, median={statistics.median(lengths):.1f})\")\n",
    "plt.show()"
   ]
  },
  {
   "cell_type": "code",
   "execution_count": 4,
   "id": "5255b474-52d3-4d70-af65-b1d2e52620ed",
   "metadata": {},
   "outputs": [
    {
     "data": {
      "application/vnd.jupyter.widget-view+json": {
       "model_id": "1e0e5968163c41a5bc6f584cdb1b59bd",
       "version_major": 2,
       "version_minor": 0
      },
      "text/plain": [
       "Batches:   0%|          | 0/127 [00:00<?, ?it/s]"
      ]
     },
     "metadata": {},
     "output_type": "display_data"
    },
    {
     "data": {
      "application/vnd.jupyter.widget-view+json": {
       "model_id": "a703a3ec82e04bacbd6e2db20fdcdb2a",
       "version_major": 2,
       "version_minor": 0
      },
      "text/plain": [
       "Batches:   0%|          | 0/2 [00:00<?, ?it/s]"
      ]
     },
     "metadata": {},
     "output_type": "display_data"
    }
   ],
   "source": [
    "def compute_similarities(benchmark, documents):\n",
    "    # Load model\n",
    "    model = SentenceTransformer(\n",
    "        \"Qwen/Qwen3-Embedding-0.6B\",\n",
    "        model_kwargs={\"quantization_config\": BitsAndBytesConfig(load_in_8bit=True)}\n",
    "    )\n",
    "    # Compute embeddings\n",
    "    document_embeddings = model.encode(\n",
    "        [f\"{document.metadata[\"source_file\"]}: {document.page_content}\" for document in documents],\n",
    "        show_progress_bar=True,\n",
    "    )\n",
    "    query_embeddings = model.encode(\n",
    "        [test['query'] for test in benchmark],\n",
    "        prompt_name=\"query\",\n",
    "        show_progress_bar=True,\n",
    "    )\n",
    "    # Compute similarity\n",
    "    similarities = model.similarity(query_embeddings, document_embeddings)\n",
    "    # Cleanup\n",
    "    del model\n",
    "    cleanup()\n",
    "\n",
    "    return similarities\n",
    "\n",
    "similarities = compute_similarities(benchmark, documents)"
   ]
  },
  {
   "cell_type": "code",
   "execution_count": 5,
   "id": "1abfd515-b788-43b7-9d8b-51f712079385",
   "metadata": {},
   "outputs": [
    {
     "name": "stdout",
     "output_type": "stream",
     "text": [
      "Baseline Evaluation\n",
      "precision @ 1 :  0.2306, recall @ 1 :  0.2072\n",
      "precision @ 2 :  0.2006, recall @ 2 :  0.2841\n",
      "precision @ 4 :  0.1227, recall @ 4 :  0.3063\n",
      "precision @ 8 :  0.0927, recall @ 8 :  0.4007\n",
      "precision @ 16:  0.0640, recall @ 16:  0.5072\n",
      "precision @ 32:  0.0428, recall @ 32:  0.6249\n",
      "precision @ 64:  0.0267, recall @ 64:  0.7230\n",
      "AUC: 0.07685438425213714\n"
     ]
    }
   ],
   "source": [
    "import torch\n",
    "\n",
    "from lib.metrics import print_evaluations\n",
    "\n",
    "\n",
    "ranks = torch.argsort(similarities, descending=True)\n",
    "\n",
    "print(\"Baseline Evaluation\")\n",
    "print_evaluations(benchmark, documents, ranks)"
   ]
  },
  {
   "cell_type": "code",
   "execution_count": 6,
   "id": "29c16a2e-2c5a-4337-b023-d656057aba91",
   "metadata": {},
   "outputs": [
    {
     "data": {
      "application/vnd.jupyter.widget-view+json": {
       "model_id": "4f6d7f56a8334d52b7cb58d269275d18",
       "version_major": 2,
       "version_minor": 0
      },
      "text/plain": [
       "Loading checkpoint shards:   0%|          | 0/2 [00:00<?, ?it/s]"
      ]
     },
     "metadata": {},
     "output_type": "display_data"
    },
    {
     "data": {
      "application/vnd.jupyter.widget-view+json": {
       "model_id": "3cfeb37851d14f93ab5388d5536c93f6",
       "version_major": 2,
       "version_minor": 0
      },
      "text/plain": [
       "  0%|          | 0/64 [00:00<?, ?it/s]"
      ]
     },
     "metadata": {},
     "output_type": "display_data"
    },
    {
     "name": "stderr",
     "output_type": "stream",
     "text": [
      "/home/joshuachin/miniconda3/envs/RAG-2/lib/python3.12/site-packages/bitsandbytes/autograd/_functions.py:186: UserWarning: MatMul8bitLt: inputs will be cast from torch.bfloat16 to float16 during quantization\n",
      "  warnings.warn(f\"MatMul8bitLt: inputs will be cast from {A.dtype} to float16 during quantization\")\n"
     ]
    }
   ],
   "source": [
    "from tqdm.notebook import tqdm\n",
    "import torch\n",
    "\n",
    "from lib.rerank import Reranker\n",
    "\n",
    "\n",
    "model_path = \"ContextualAI/ctxl-rerank-v2-instruct-multilingual-2b\"\n",
    "TOP_K = 32\n",
    "\n",
    "def rerank(benchmark, documents, ranks, model_path=model_path, topk=TOP_K):\n",
    "    reranker = Reranker(model_path)\n",
    "    \n",
    "    results = []\n",
    "    for idx, (test, doc_idxs) in tqdm(\n",
    "        enumerate(zip(benchmark, ranks)),\n",
    "        total=min(len(benchmark), len(ranks))\n",
    "    ):\n",
    "        result = reranker(\n",
    "            query=benchmark[idx]['query'],\n",
    "            instruction='',\n",
    "            documents=[\n",
    "                f\"{documents[document_idx].metadata[\"source_file\"]}: {documents[document_idx].page_content}\" \n",
    "                for document_idx in ranks[idx, :TOP_K]\n",
    "            ],\n",
    "        )\n",
    "        results.append(result)\n",
    "    \n",
    "        if idx % 8 == 0:\n",
    "            cleanup()\n",
    "    \n",
    "    reranks = []\n",
    "    for idx, result in enumerate(results):\n",
    "        top_documents = ranks[idx, :TOP_K]\n",
    "        base_document_idxs = [int(top_documents[relative_idx]) for score, relative_idx, content in result]\n",
    "        reranks.append(base_document_idxs)\n",
    "    return reranks\n",
    "\n",
    "ranks = torch.argsort(similarities, descending=True)\n",
    "reranks = rerank(benchmark, documents, ranks)"
   ]
  },
  {
   "cell_type": "code",
   "execution_count": 7,
   "id": "095e62c3-52b8-415e-8943-21d0306fdd0b",
   "metadata": {},
   "outputs": [
    {
     "name": "stdout",
     "output_type": "stream",
     "text": [
      "Reranked (K=32) Evaluation\n",
      "precision @ 1 :  0.3556, recall @ 1 :  0.3123\n",
      "precision @ 2 :  0.2405, recall @ 2 :  0.3308\n",
      "precision @ 4 :  0.1753, recall @ 4 :  0.4158\n",
      "precision @ 8 :  0.1211, recall @ 8 :  0.5379\n",
      "precision @ 16:  0.0718, recall @ 16:  0.5987\n",
      "precision @ 32:  0.0428, recall @ 32:  0.6249\n",
      "precision @ 64:  0.0428, recall @ 64:  0.6249\n",
      "AUC: 0.13294449738755415\n"
     ]
    }
   ],
   "source": [
    "print(f\"Reranked (K={TOP_K}) Evaluation\")\n",
    "print_evaluations(benchmark, documents, reranks)"
   ]
  },
  {
   "cell_type": "code",
   "execution_count": 8,
   "id": "84521153-4d2b-48fd-a81e-a8c92eecdb50",
   "metadata": {},
   "outputs": [
    {
     "data": {
      "text/plain": [
       "Document(metadata={'source_file': 'W_R_Grace_Co_40_North_Management_LLC.txt', 'start_index': 282793}, page_content='   “Company Material Adverse Effect” means any fact, circumstance, effect, change, event or development that, individually or in the aggregate, has or would reasonably be expected to have a material adverse effect on the business, properties, assets, liabilities, financial condition or results of operations of the Company and the Company Subsidiaries, taken as a whole; provided that, no fact, circumstance, effect, change, event or development resulting from or arising out of any of the following, individually or in the aggregate, shall constitute or be taken into account in determining whether a Company Material Adverse Effect has occurred: (a) any change generally affecting the industries in which the Company and the Company Subsidiaries operate in the United States or elsewhere (including changes in commodity prices or general market prices generally affecting such industries and changes in the global demand environment generally affecting such industries); (b) any change generally affecting any economic, legislative or political condition (including trade wars and sanctions) or any change generally affecting any securities, credit, financial, commodities or capital markets condition, in each case in the United States or elsewhere; (c) any failure in and of itself by the Company or any Company Subsidiary to meet any internal or public projection, budget, forecast, estimate or prediction in respect of revenues, earnings or other financial or operating metrics or measures for any period (it being understood that the changes and effects giving rise to or contributing to such failure may (to the extent not otherwise excluded hereby) constitute or be taken into account in determining whether a Company Material Adverse Effect has occurred); (d)  any change resulting from the announcement, execution or delivery of this Agreement, including (i) the failure of the Company or its Subsidiaries to take any action if Parent’s prior consent is required hereunder and Parent unreasonably withholds consent to taking of such action after receipt of the written request therefor from the Company; (ii) any stockholder litigation related to this Agreement or the transactions contemplated by this Agreement (but not any finally adjudicated breach of fiduciary duty or any violation of Law itself); (iii) any action taken by Parent or any Affiliate thereof to obtain any Required Statutory Approval from any Governmental Entity or satisfy any condition to the consummation of the Merger and the result of such actions; (iv) any change to the extent that arises out of or relates to the identity of Parent or any of its Affiliates as the acquirer of the Company; or (v) the impact of the announcement, execution or delivery on relationships with employees and labor unions, customers, suppliers, distributors, Governmental Entities and other Persons (it being understood that this clause (d) shall not apply with respect to the representations or warranties in Section 3.05 (or any condition to any Party’s obligation to consummate the Merger relating to such representation and warranty); (e) any change in the market price or trading volume of shares of Company Common Stock on the NYSE (it being understood that the changes and effects giving rise to or contributing to any such change may (if not otherwise excluded hereby) constitute or be taken into account in determining whether a Company Material Adverse Effect has occurred); (f) any change in applicable Law, regulation or GAAP (or authoritative interpretation thereof); (g) any applicable quarantine, “shelter in place,” “stay at home,” workforce reduction, social distancing, shut down, closure, sequester, safety or similar Laws, promulgated by any Governmental Entity, including the Centers for Disease Control and Prevention and the World Health Organization, in each case, in connection with or in response to COVID-19 (“COVID-19 Measures”); (h) any geopolitical conditions, the outbreak or escalation of hostilities, any act of war, sabotage or purported terrorism, or any escalation or worsening of any such act of war, sabotage or purported terrorism; (i) any change or effect arising from any hurricane, strong winds, ice event, fire, tornado, tsunami, flood, earthquake, pandemics (including SARS-CoV-2 or COVID-19, any evolutions or mutations thereof or related or associated epidemics, pandemics or disease outbreaks (“COVID-19”)), epidemics or other outbreaks of diseases, or other natural disaster or extreme weather-related event, circumstance or development (or escalation or worsening of any such events or occurrences, including, as applicable, second or subsequent wave(s)); and (j) any change or effect arising from any requirements imposed by any Governmental Entity as a condition to obtaining the Required Statutory Approvals; provided, however, that any fact, circumstance, effect, change, event or development set forth in clauses (a), (b), (f), (h) and (i) above may be taken into account in determining whether a Company Material Adverse Effect has occurred to the extent such change or effect has a disproportionate adverse effect on the Company and the Company Subsidiaries, taken as a whole, as compared to other participants in the industries in which the Company and the Company Subsidiaries operate (in which case, only the incremental disproportionate impact may be taken into account in determining whether there has been, or would be, a Company Material Adverse Effect).')"
      ]
     },
     "execution_count": 8,
     "metadata": {},
     "output_type": "execute_result"
    }
   ],
   "source": [
    "max(documents, key=lambda doc: len(doc.page_content))"
   ]
  },
  {
   "cell_type": "code",
   "execution_count": null,
   "id": "19ff821c-2d13-492b-b31e-baba75d6c41f",
   "metadata": {},
   "outputs": [],
   "source": []
  }
 ],
 "metadata": {
  "kernelspec": {
   "display_name": "Python 3 (ipykernel)",
   "language": "python",
   "name": "python3"
  },
  "language_info": {
   "codemirror_mode": {
    "name": "ipython",
    "version": 3
   },
   "file_extension": ".py",
   "mimetype": "text/x-python",
   "name": "python",
   "nbconvert_exporter": "python",
   "pygments_lexer": "ipython3",
   "version": "3.12.0"
  }
 },
 "nbformat": 4,
 "nbformat_minor": 5
}
