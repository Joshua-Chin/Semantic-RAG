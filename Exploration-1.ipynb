{
 "cells": [
  {
   "cell_type": "markdown",
   "id": "23b74260-3bb3-4e2c-a671-44bb0c0c4eff",
   "metadata": {},
   "source": [
    "## Load Dataset"
   ]
  },
  {
   "cell_type": "code",
   "execution_count": 1,
   "id": "0956bb86-2d27-465d-a9a9-76dda1947b3b",
   "metadata": {},
   "outputs": [],
   "source": [
    "import os\n",
    "import zipfile\n",
    "\n",
    "ZIP_PATH = './data/LegalBench-RAG.zip'\n",
    "DATA_PATH = './data/LegalBench-RAG/'\n",
    "\n",
    "if not os.listdir(DATA_PATH):\n",
    "    with zipfile.ZipFile(ZIP_PATH, 'r') as zip_ref:\n",
    "        for name in zip_ref.namelist():\n",
    "            if name.endswith('/'):\n",
    "                continue\n",
    "            zip_ref.extract(name, path=DATA_PATH)"
   ]
  },
  {
   "cell_type": "code",
   "execution_count": 37,
   "id": "f48b640c-41ea-45d2-83e6-644a41b5ca29",
   "metadata": {},
   "outputs": [
    {
     "name": "stdout",
     "output_type": "stream",
     "text": [
      "Benchmark Test Example:\n",
      "{\n",
      "  \"query\": \"Consider \\\"Fiverr\\\"'s privacy policy; who can see which tasks i hire workers for?\",\n",
      "  \"snippets\": [\n",
      "    {\n",
      "      \"file_path\": \"privacy_qa/Fiverr.txt\",\n",
      "      \"span\": [\n",
      "        3873,\n",
      "        4312\n",
      "      ],\n",
      "      \"answer\": \"  In addition, we collect information while you access, browse, view or otherwise use the Site.\\nIn other words, when you access the Site we are aware of your usage of the Site, and may gather, collect and record the information relating to such usage, including geo-location information, IP address, device and connection information, browser information and web-log information, and all communications recorded by Users through the Site.\\n\"\n",
      "    }\n",
      "  ]\n",
      "}\n",
      "\n",
      "Corpus Example (Fiverr.txt / first 1000 characters):\n",
      "  At Fiverr we care about your privacy.\n",
      "We do not sell or rent your personal information to third parties for their direct marketing purposes without your explicit consent.\n",
      "We do not disclose it to others except as disclosed in this Policy or required to provide you with the services of the Site and mobile applications, meaning - to allow you to buy, sell, share the information you want to share on the Site; to contribute on the forum; pay for products; post reviews and so on; or where we have a legal obligation to do so.\n",
      "  We collect information that you provide us or voluntarily share with other users, and also some general technical information that is automatically gathered by our systems, such as IP address, browser information and cookies to enable you to have a better user experience and a more personalized browsing experience.\n",
      "  We will not share information that you provide us in the process of the registration - including your contact information - except as described in this\n"
     ]
    }
   ],
   "source": [
    "import json\n",
    "import pprint\n",
    "\n",
    "\n",
    "BENCHMARK_PRIVACY_QA_PATH = './data/LegalBench-RAG/benchmarks/privacy_qa.json'\n",
    "CORPUS_PATH = './data/LegalBench-RAG/corpus/privacy_qa/'\n",
    "\n",
    "\n",
    "with open(BENCHMARK_PRIVACY_QA_PATH) as f:\n",
    "    benchmark_privacy_qa = json.load(f)['tests']\n",
    "print(\"Benchmark Test Example:\")\n",
    "print(json.dumps(benchmark_privacy_qa[0], indent=2))\n",
    "print()\n",
    "\n",
    "corpus = {}\n",
    "for document in os.listdir(CORPUS_PATH):\n",
    "    with open(os.path.join(CORPUS_PATH, document)) as f:\n",
    "        corpus[document] = f.read()\n",
    "print(\"Corpus Example (Fiverr.txt / first 1000 characters):\")\n",
    "print(corpus['Fiverr.txt'][:1000])"
   ]
  },
  {
   "cell_type": "markdown",
   "id": "ca7bd70f-886f-4fbf-beb6-1e7015c75f21",
   "metadata": {},
   "source": [
    "## Split Into Chunks"
   ]
  },
  {
   "cell_type": "code",
   "execution_count": 29,
   "id": "2929d1d0-3cbd-4410-b398-153f3496f312",
   "metadata": {},
   "outputs": [
    {
     "data": {
      "text/plain": [
       "[Document(metadata={'source_file': 'Fiverr.txt', 'start_index': 2}, page_content='At Fiverr we care about your privacy.\\nWe do not sell or rent your personal information to third parties for their direct marketing purposes without your explicit consent.'),\n",
       " Document(metadata={'source_file': 'Fiverr.txt', 'start_index': 173}, page_content='We do not disclose it to others except as disclosed in this Policy or required to provide you with the services of the Site and mobile applications, meaning - to allow you to buy, sell, share the information you want to share on the Site; to contribute on the forum; pay for products; post reviews and so on; or where we have a legal obligation to do so.'),\n",
       " Document(metadata={'source_file': 'Fiverr.txt', 'start_index': 530}, page_content='We collect information that you provide us or voluntarily share with other users, and also some general technical information that is automatically gathered by our systems, such as IP address, browser information and cookies to enable you to have a better user experience and a more personalized browsing experience.\\n  We will not share information that you provide us in the process of the registration - including your contact information - except as described in this Policy.')]"
      ]
     },
     "execution_count": 29,
     "metadata": {},
     "output_type": "execute_result"
    }
   ],
   "source": [
    "from langchain_text_splitters import RecursiveCharacterTextSplitter\n",
    "\n",
    "text_splitter = RecursiveCharacterTextSplitter(\n",
    "    separators=['\\n\\n', '\\n', '!', '?', '.', ':', ';', ',', ' ', ''],\n",
    "    chunk_size=500,\n",
    "    chunk_overlap=0,\n",
    "    add_start_index=True,\n",
    ")\n",
    "\n",
    "names, texts = zip(*corpus.items())\n",
    "metadatas = [\n",
    "    {\"source_file\": name}\n",
    "    for idx, name in enumerate(names)\n",
    "]\n",
    "documents = text_splitter.create_documents(texts, metadatas=metadatas)\n",
    "documents[:3]"
   ]
  },
  {
   "cell_type": "markdown",
   "id": "567497ed-7916-4097-9d41-903e5e4ee0f5",
   "metadata": {},
   "source": [
    "## Embed Chunks"
   ]
  },
  {
   "cell_type": "code",
   "execution_count": 4,
   "id": "56b9b6f5-db2f-4868-a294-70ac015f9320",
   "metadata": {},
   "outputs": [
    {
     "data": {
      "application/vnd.jupyter.widget-view+json": {
       "model_id": "a9b8538e215a496a8fee54d20f3a6528",
       "version_major": 2,
       "version_minor": 0
      },
      "text/plain": [
       "Loading checkpoint shards:   0%|          | 0/4 [00:00<?, ?it/s]"
      ]
     },
     "metadata": {},
     "output_type": "display_data"
    }
   ],
   "source": [
    "from sentence_transformers import SentenceTransformer\n",
    "from transformers import BitsAndBytesConfig\n",
    "\n",
    "model = SentenceTransformer(\n",
    "    \"Qwen/Qwen3-Embedding-8B\",\n",
    "    model_kwargs={\n",
    "        \"quantization_config\": BitsAndBytesConfig(load_in_8bit=True)\n",
    "    }\n",
    ")"
   ]
  },
  {
   "cell_type": "code",
   "execution_count": 30,
   "id": "67b046ce-d666-4be9-9c6d-60c084adf8c8",
   "metadata": {},
   "outputs": [
    {
     "data": {
      "application/vnd.jupyter.widget-view+json": {
       "model_id": "f6f2bcef2945449aa001e1bff408fe3f",
       "version_major": 2,
       "version_minor": 0
      },
      "text/plain": [
       "Batches:   0%|          | 0/15 [00:00<?, ?it/s]"
      ]
     },
     "metadata": {},
     "output_type": "display_data"
    }
   ],
   "source": [
    "document_embeddings = model.encode(\n",
    "    [f\"{document.metadata['source_file']}: {document.page_content}\" for document in documents],\n",
    "    show_progress_bar=True,\n",
    ")"
   ]
  },
  {
   "cell_type": "code",
   "execution_count": 8,
   "id": "5f3af6a0-036a-429e-819b-bf62b16a1880",
   "metadata": {},
   "outputs": [],
   "source": [
    "benchmark = [\n",
    "    test for test in benchmark_privacy_qa\n",
    "    # if test['snippets'][0]['file_path'] == 'privacy_qa/Fiverr.txt'\n",
    "]\n",
    "\n",
    "query_embeddings = model.encode([test['query'] for test in benchmark], prompt_name=\"query\")"
   ]
  },
  {
   "cell_type": "code",
   "execution_count": 31,
   "id": "aee79552-bf20-4bdc-bbc4-19d423a8c155",
   "metadata": {},
   "outputs": [
    {
     "data": {
      "text/plain": [
       "torch.Size([194, 461])"
      ]
     },
     "execution_count": 31,
     "metadata": {},
     "output_type": "execute_result"
    }
   ],
   "source": [
    "similarities = model.similarity(query_embeddings, document_embeddings)\n",
    "similarities.shape"
   ]
  },
  {
   "cell_type": "code",
   "execution_count": 23,
   "id": "431d9b94-5b8b-45e1-9a51-0d400d55dcb5",
   "metadata": {},
   "outputs": [],
   "source": [
    "def precision_recall(spans_true, spans_pred):\n",
    "    true = as_indices(spans_true)\n",
    "    pred = as_indices(spans_pred)\n",
    "\n",
    "    tp = len(true & pred)\n",
    "    fp = len(pred - true)\n",
    "    fn = len(true - pred)\n",
    "\n",
    "    precision = tp / (tp + fp) if (tp + fp) > 0 else 0.0\n",
    "    recall = tp / (tp + fn) if (tp + fn) > 0 else 0.0\n",
    "    return precision, recall\n",
    "    \n",
    "\n",
    "def as_indices(spans):\n",
    "    indices = set()\n",
    "    for start, end in spans:\n",
    "        indices.update(range(start, end))\n",
    "    return indices"
   ]
  },
  {
   "cell_type": "code",
   "execution_count": 32,
   "id": "649c38cf-37c4-477e-9b21-4bc775c334e9",
   "metadata": {},
   "outputs": [
    {
     "name": "stdout",
     "output_type": "stream",
     "text": [
      "precision: 0.17581403203871157, recall: 0.3731475664837389\n"
     ]
    }
   ],
   "source": [
    "import torch\n",
    "\n",
    "\n",
    "TOPK = 4\n",
    "\n",
    "precision = recall = 0\n",
    "count = 0\n",
    "\n",
    "indices = torch.argsort(similarities, descending=True)[:, :TOPK]\n",
    "for test_idx, document_idxs in enumerate(indices):\n",
    "    test = benchmark[test_idx]\n",
    "\n",
    "    spans_true = []\n",
    "    for snippet in benchmark[test_idx][\"snippets\"]:\n",
    "        spans_true.append(snippet[\"span\"])\n",
    "\n",
    "    spans_pred = []\n",
    "    for idx in document_idxs:\n",
    "        document = documents[idx]\n",
    "        start = document.metadata[\"start_index\"]\n",
    "        length = len(document.page_content)\n",
    "        spans_pred.append((start, start + length))\n",
    "\n",
    "    p, r = precision_recall(spans_true, sp ans_pred)\n",
    "    \n",
    "    precision += p\n",
    "    recall += r\n",
    "    count += 1\n",
    "\n",
    "print(f\"precision: {precision / count}, recall: {recall / count}\")"
   ]
  },
  {
   "cell_type": "code",
   "execution_count": 35,
   "id": "c308c183-fd47-40b2-a4d2-08ce6d8b9b84",
   "metadata": {},
   "outputs": [
    {
     "name": "stdout",
     "output_type": "stream",
     "text": [
      "{'query': 'Consider \"Fiverr\"\\'s privacy policy; who can see which tasks i hire '\n",
      "          'workers for?',\n",
      " 'snippets': [{'answer': '  In addition, we collect information while you '\n",
      "                         'access, browse, view or otherwise use the Site.\\n'\n",
      "                         'In other words, when you access the Site we are '\n",
      "                         'aware of your usage of the Site, and may gather, '\n",
      "                         'collect and record the information relating to such '\n",
      "                         'usage, including geo-location information, IP '\n",
      "                         'address, device and connection information, browser '\n",
      "                         'information and web-log information, and all '\n",
      "                         'communications recorded by Users through the Site.\\n',\n",
      "               'file_path': 'privacy_qa/Fiverr.txt',\n",
      "               'span': [3873, 4312]}]}\n"
     ]
    }
   ],
   "source": [
    "pprint.pprint(benchmark[0])"
   ]
  },
  {
   "cell_type": "code",
   "execution_count": 37,
   "id": "ca2405ec-0a7a-49bb-92b6-a32b7b4fc2ba",
   "metadata": {},
   "outputs": [
    {
     "name": "stdout",
     "output_type": "stream",
     "text": [
      "page_content='If for any reason you have a problem with deleting your personal information please contact Fiverr's Customer Support and we will make reasonable efforts to delete any such information pursuant to any applicable privacy laws.\n",
      "  You can review and change your personal information by logging into the Site and visiting your account profile page.' metadata={'start_index': 23852}\n",
      "page_content='By accessing and/or using the Site and its related sites, applications, services, goods and/or registering for a Fiverr account, you agree to the terms and conditions of this Policy, including to our collection, use, disclosure, processing and retention of your personal information.\n",
      "You can also learn how to limit sharing of information in this Policy.' metadata={'start_index': 3003}\n",
      "page_content='We will process any requests in line with any local laws and our policies and procedures.\n",
      "If you do not have an active Fiverr account, please contact us at privacy@fiverr.com.\n",
      "  If you have any questions (or comments) concerning this Policy, please email us at privacy@fiverr.com, and we will make an effort to reply within a reasonable timeframe.' metadata={'start_index': 25074}\n",
      "page_content='Fiverr (including Fiverr Inc., Fiver International Ltd. and its affiliates) respects your privacy and is committed to protect the personal information of its users - buyers, sellers, and visitors browsing the Site (Users).\n",
      "We believe that you have a right to know our practices regarding the information we may collect when you visit and/or use the Site.\n",
      "This Policy explains our privacy practices for the Site and services provided by Fiverr.' metadata={'start_index': 2559}\n",
      "page_content='At Fiverr we care about your privacy.\n",
      "We do not sell or rent your personal information to third parties for their direct marketing purposes without your explicit consent.' metadata={'start_index': 2}\n"
     ]
    }
   ],
   "source": [
    "for idx in indices[0]:\n",
    "    print(documents[idx])"
   ]
  },
  {
   "cell_type": "code",
   "execution_count": null,
   "id": "8c9b96d0-7062-4c30-b7ea-d144df710d88",
   "metadata": {},
   "outputs": [],
   "source": []
  }
 ],
 "metadata": {
  "kernelspec": {
   "display_name": "Python 3 (ipykernel)",
   "language": "python",
   "name": "python3"
  },
  "language_info": {
   "codemirror_mode": {
    "name": "ipython",
    "version": 3
   },
   "file_extension": ".py",
   "mimetype": "text/x-python",
   "name": "python",
   "nbconvert_exporter": "python",
   "pygments_lexer": "ipython3",
   "version": "3.12.0"
  }
 },
 "nbformat": 4,
 "nbformat_minor": 5
}
