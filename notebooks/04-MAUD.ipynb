{
 "cells": [
  {
   "cell_type": "markdown",
   "id": "23b74260-3bb3-4e2c-a671-44bb0c0c4eff",
   "metadata": {},
   "source": [
    "## Load Dataset"
   ]
  },
  {
   "cell_type": "code",
   "execution_count": 1,
   "id": "0956bb86-2d27-465d-a9a9-76dda1947b3b",
   "metadata": {
    "scrolled": true
   },
   "outputs": [],
   "source": [
    "from rag.load import load_benchmark_corpus_sample, corpus_to_texts_metadatas\n",
    "\n",
    "\n",
    "benchmark, corpus = load_benchmark_corpus_sample(subset='maud')\n",
    "texts, metadatas = corpus_to_texts_metadatas(corpus)"
   ]
  },
  {
   "cell_type": "markdown",
   "id": "ca7bd70f-886f-4fbf-beb6-1e7015c75f21",
   "metadata": {},
   "source": [
    "## Split Into Chunks"
   ]
  },
  {
   "cell_type": "code",
   "execution_count": 2,
   "id": "2929d1d0-3cbd-4410-b398-153f3496f312",
   "metadata": {},
   "outputs": [],
   "source": [
    "from langchain_text_splitters import RecursiveCharacterTextSplitter\n",
    "\n",
    "\n",
    "text_splitter = RecursiveCharacterTextSplitter(\n",
    "    separators=['\\n\\n', '\\n', '!', '?', '.', ':', ';', ',', ' ', ''],\n",
    "    chunk_size=500,\n",
    "    chunk_overlap=0,\n",
    "    add_start_index=True,\n",
    ")\n",
    "\n",
    "documents = text_splitter.create_documents(texts, metadatas=metadatas)"
   ]
  },
  {
   "cell_type": "markdown",
   "id": "567497ed-7916-4097-9d41-903e5e4ee0f5",
   "metadata": {},
   "source": [
    "## Embed Chunks"
   ]
  },
  {
   "cell_type": "code",
   "execution_count": 3,
   "id": "56b9b6f5-db2f-4868-a294-70ac015f9320",
   "metadata": {},
   "outputs": [],
   "source": [
    "import torch\n",
    "\n",
    "from rag.embed import compute_similarities, get_query_strings, get_document_contents\n",
    "\n",
    "\n",
    "similarity_cache_path = \"data/cache/04_similarities_maud.pt\"\n",
    "try:\n",
    "    similarities = torch.load(similarity_cache_path)\n",
    "except:\n",
    "    similarities = compute_similarities(\n",
    "        \"Qwen/Qwen3-Embedding-8B\",\n",
    "        queries=get_query_strings(benchmark),\n",
    "        documents=get_document_contents(documents),\n",
    "    )\n",
    "    torch.save(similarities, similarity_cache_path)"
   ]
  },
  {
   "cell_type": "code",
   "execution_count": 4,
   "id": "08323fd2-a58d-441c-b35a-5fca7a01f3e4",
   "metadata": {},
   "outputs": [
    {
     "data": {
      "application/vnd.jupyter.widget-view+json": {
       "model_id": "cf6535268c71406d8146672b8c8838bf",
       "version_major": 2,
       "version_minor": 0
      },
      "text/plain": [
       "Loading checkpoint shards:   0%|          | 0/2 [00:00<?, ?it/s]"
      ]
     },
     "metadata": {},
     "output_type": "display_data"
    },
    {
     "data": {
      "application/vnd.jupyter.widget-view+json": {
       "model_id": "aeae34145e634b35bd362c3610f6ed31",
       "version_major": 2,
       "version_minor": 0
      },
      "text/plain": [
       "  0%|          | 0/64 [00:00<?, ?it/s]"
      ]
     },
     "metadata": {},
     "output_type": "display_data"
    },
    {
     "name": "stderr",
     "output_type": "stream",
     "text": [
      "/home/joshuachin/miniconda3/envs/RAG-2/lib/python3.12/site-packages/bitsandbytes/autograd/_functions.py:186: UserWarning: MatMul8bitLt: inputs will be cast from torch.bfloat16 to float16 during quantization\n",
      "  warnings.warn(f\"MatMul8bitLt: inputs will be cast from {A.dtype} to float16 during quantization\")\n"
     ]
    }
   ],
   "source": [
    "from rag.metrics import similarities_to_ranks\n",
    "from rag.rerank import rerank\n",
    "\n",
    "\n",
    "ranks = similarities_to_ranks(similarities)\n",
    "reranks = rerank(benchmark, documents, ranks)"
   ]
  },
  {
   "cell_type": "code",
   "execution_count": 5,
   "id": "2b34ab1a-0b39-419d-8c23-8d83e612bc5f",
   "metadata": {},
   "outputs": [
    {
     "name": "stdout",
     "output_type": "stream",
     "text": [
      "Baseline Evaluation\n",
      "precision @ 1 :  0.1935, recall @ 1 :  0.0918\n",
      "precision @ 2 :  0.1687, recall @ 2 :  0.1278\n",
      "precision @ 4 :  0.1368, recall @ 4 :  0.2127\n",
      "precision @ 8 :  0.1173, recall @ 8 :  0.3382\n",
      "precision @ 16:  0.0766, recall @ 16:  0.4198\n",
      "precision @ 32:  0.0522, recall @ 32:  0.5222\n",
      "precision @ 64:  0.0352, recall @ 64:  0.6287\n",
      "AUC: 0.05023092285649827\n",
      "\n",
      "Reranked evaluation\n",
      "precision @ 1 :  0.2991, recall @ 1 :  0.1622\n",
      "precision @ 2 :  0.1987, recall @ 2 :  0.2171\n",
      "precision @ 4 :  0.1469, recall @ 4 :  0.2733\n",
      "precision @ 8 :  0.1154, recall @ 8 :  0.3654\n",
      "precision @ 16:  0.0760, recall @ 16:  0.4171\n",
      "precision @ 32:  0.0522, recall @ 32:  0.5222\n",
      "precision @ 64:  0.0522, recall @ 64:  0.5222\n",
      "AUC: 0.06840639745141963\n"
     ]
    }
   ],
   "source": [
    "from rag.metrics import print_evaluations\n",
    "\n",
    "print(\"Baseline Evaluation\")\n",
    "print_evaluations(benchmark, documents, ranks)\n",
    "\n",
    "print(\"\\nReranked evaluation\")\n",
    "print_evaluations(benchmark, documents, reranks)"
   ]
  },
  {
   "cell_type": "code",
   "execution_count": null,
   "id": "fe470116-8bdd-46d8-ac9a-3e3ac28e2de8",
   "metadata": {},
   "outputs": [],
   "source": []
  }
 ],
 "metadata": {
  "kernelspec": {
   "display_name": "Python 3 (ipykernel)",
   "language": "python",
   "name": "python3"
  },
  "language_info": {
   "codemirror_mode": {
    "name": "ipython",
    "version": 3
   },
   "file_extension": ".py",
   "mimetype": "text/x-python",
   "name": "python",
   "nbconvert_exporter": "python",
   "pygments_lexer": "ipython3",
   "version": "3.12.0"
  }
 },
 "nbformat": 4,
 "nbformat_minor": 5
}
