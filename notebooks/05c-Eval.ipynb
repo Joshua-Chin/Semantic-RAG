{
 "cells": [
  {
   "cell_type": "markdown",
   "id": "f7ff733d-cf06-48bf-90ae-62c5170816d3",
   "metadata": {},
   "source": [
    "## Load the Dataset"
   ]
  },
  {
   "cell_type": "code",
   "execution_count": 1,
   "id": "7fdf3e3a-23cb-4fa9-9150-17872c8f240e",
   "metadata": {},
   "outputs": [],
   "source": [
    "from rag.load import load_benchmark_corpus, corpus_to_texts_metadatas\n",
    "\n",
    "\n",
    "benchmark, corpus = load_benchmark_corpus()\n",
    "texts, metadatas = corpus_to_texts_metadatas(corpus)"
   ]
  },
  {
   "cell_type": "code",
   "execution_count": 2,
   "id": "51b7c6dc-2094-4f17-a159-69e233957ede",
   "metadata": {},
   "outputs": [
    {
     "data": {
      "application/vnd.jupyter.widget-view+json": {
       "model_id": "4d3d6cf492f042d7a04e1a448cfbc8df",
       "version_major": 2,
       "version_minor": 0
      },
      "text/plain": [
       "Loading checkpoint shards:   0%|          | 0/4 [00:00<?, ?it/s]"
      ]
     },
     "metadata": {},
     "output_type": "display_data"
    },
    {
     "data": {
      "application/vnd.jupyter.widget-view+json": {
       "model_id": "da21180ac7c8442db9033803fb0ae97d",
       "version_major": 2,
       "version_minor": 0
      },
      "text/plain": [
       "Batches:   0%|          | 0/6 [00:00<?, ?it/s]"
      ]
     },
     "metadata": {},
     "output_type": "display_data"
    },
    {
     "data": {
      "application/vnd.jupyter.widget-view+json": {
       "model_id": "c821306d1f8c47fcb2d8af2c9b951806",
       "version_major": 2,
       "version_minor": 0
      },
      "text/plain": [
       "Batches:   0%|          | 0/1 [00:00<?, ?it/s]"
      ]
     },
     "metadata": {},
     "output_type": "display_data"
    },
    {
     "data": {
      "application/vnd.jupyter.widget-view+json": {
       "model_id": "57c51f9ff2554553b85612404a18281b",
       "version_major": 2,
       "version_minor": 0
      },
      "text/plain": [
       "Batches:   0%|          | 0/6 [00:00<?, ?it/s]"
      ]
     },
     "metadata": {},
     "output_type": "display_data"
    },
    {
     "data": {
      "application/vnd.jupyter.widget-view+json": {
       "model_id": "f8a1d9f8a184493ea644a45c3419de0a",
       "version_major": 2,
       "version_minor": 0
      },
      "text/plain": [
       "Batches:   0%|          | 0/11 [00:00<?, ?it/s]"
      ]
     },
     "metadata": {},
     "output_type": "display_data"
    },
    {
     "data": {
      "application/vnd.jupyter.widget-view+json": {
       "model_id": "f1637888bf1f4817ab0b4a4f65c6b101",
       "version_major": 2,
       "version_minor": 0
      },
      "text/plain": [
       "Batches:   0%|          | 0/6 [00:00<?, ?it/s]"
      ]
     },
     "metadata": {},
     "output_type": "display_data"
    },
    {
     "data": {
      "application/vnd.jupyter.widget-view+json": {
       "model_id": "5700e2c942be4a59bb73d76462060995",
       "version_major": 2,
       "version_minor": 0
      },
      "text/plain": [
       "Batches:   0%|          | 0/7 [00:00<?, ?it/s]"
      ]
     },
     "metadata": {},
     "output_type": "display_data"
    },
    {
     "data": {
      "application/vnd.jupyter.widget-view+json": {
       "model_id": "962612a9bc3349a0ae6186988f087170",
       "version_major": 2,
       "version_minor": 0
      },
      "text/plain": [
       "Batches:   0%|          | 0/3 [00:00<?, ?it/s]"
      ]
     },
     "metadata": {},
     "output_type": "display_data"
    },
    {
     "data": {
      "text/plain": [
       "[Document(metadata={'source_file': 'Fiverr.txt', 'start_index': 0}, page_content='  At Fiverr we care about your privacy.'),\n",
       " Document(metadata={'source_file': 'Fiverr.txt', 'start_index': 40}, page_content='We do not sell or rent your personal information to third parties for their direct marketing purposes without your explicit consent.\\nWe do not disclose it to others except as disclosed in this Policy or required to provide you with the services of the Site and mobile applications, meaning - to allow you to buy, sell, share the information you want to share on the Site; to contribute on the forum; pay for products; post reviews and so on; or where we have a legal obligation to do so.'),\n",
       " Document(metadata={'source_file': 'Fiverr.txt', 'start_index': 528}, page_content='  We collect information that you provide us or voluntarily share with other users, and also some general technical information that is automatically gathered by our systems, such as IP address, browser information and cookies to enable you to have a better user experience and a more personalized browsing experience.\\n  We will not share information that you provide us in the process of the registration - including your contact information - except as described in this Policy.'),\n",
       " Document(metadata={'source_file': 'Fiverr.txt', 'start_index': 1009}, page_content='  Information that you choose to publish on the Site (photos, videos, text, music, reviews, deliveries) - is no longer private, just like any information you publish online.\\n  Technical information that is gathered by our systems, or third party systems, automatically may be used for Site operation, optimization, analytics, content promotion and enhancement of user experience.'),\n",
       " Document(metadata={'source_file': 'Fiverr.txt', 'start_index': 1389}, page_content='We may use your information to contact you - to provide notices related to your activities, or offer you promotions and general updates, but we will not let any other person, including sellers and buyers, contact you, other than through your user profile on the Site.')]"
      ]
     },
     "execution_count": 2,
     "metadata": {},
     "output_type": "execute_result"
    }
   ],
   "source": [
    "from rag.chunk import create_documents\n",
    "\n",
    "\n",
    "documents = create_documents(\n",
    "    \"Qwen/Qwen3-Embedding-8B\",\n",
    "    texts, metadatas,\n",
    "    chunk_size=500,\n",
    "    atom_size=200,\n",
    ")\n",
    "documents[:5]"
   ]
  },
  {
   "cell_type": "code",
   "execution_count": 3,
   "id": "e95391f7-8f99-4256-bbe1-cdc15c094909",
   "metadata": {},
   "outputs": [
    {
     "data": {
      "image/png": "[encoded data removed]",
      "text/plain": [
       "<Figure size 1200x600 with 1 Axes>"
      ]
     },
     "metadata": {},
     "output_type": "display_data"
    }
   ],
   "source": [
    "%matplotlib inline\n",
    "\n",
    "import statistics\n",
    "import matplotlib.pyplot as plt\n",
    "import seaborn as sns\n",
    "\n",
    "\n",
    "sns.set_theme()\n",
    "\n",
    "lengths = [len(doc.page_content) for doc in documents]\n",
    "\n",
    "plt.figure(figsize=(12, 6))\n",
    "sns.histplot(lengths)\n",
    "plt.title(f\"Document Lengths (mean={statistics.mean(lengths):.1f}, median={statistics.median(lengths):.1f}, max={max(lengths)})\")\n",
    "plt.show()"
   ]
  },
  {
   "cell_type": "code",
   "execution_count": 4,
   "id": "5255b474-52d3-4d70-af65-b1d2e52620ed",
   "metadata": {},
   "outputs": [
    {
     "data": {
      "application/vnd.jupyter.widget-view+json": {
       "model_id": "37af86d6cd9d45c5b57f812ed06e3c34",
       "version_major": 2,
       "version_minor": 0
      },
      "text/plain": [
       "Loading checkpoint shards:   0%|          | 0/4 [00:00<?, ?it/s]"
      ]
     },
     "metadata": {},
     "output_type": "display_data"
    },
    {
     "data": {
      "application/vnd.jupyter.widget-view+json": {
       "model_id": "ca40c7173bed4bde8060f1b0edd0e639",
       "version_major": 2,
       "version_minor": 0
      },
      "text/plain": [
       "Batches:   0%|          | 0/21 [00:00<?, ?it/s]"
      ]
     },
     "metadata": {},
     "output_type": "display_data"
    },
    {
     "data": {
      "application/vnd.jupyter.widget-view+json": {
       "model_id": "28bc532b1f3d46aea9cea4f5243dc696",
       "version_major": 2,
       "version_minor": 0
      },
      "text/plain": [
       "Batches:   0%|          | 0/7 [00:00<?, ?it/s]"
      ]
     },
     "metadata": {},
     "output_type": "display_data"
    }
   ],
   "source": [
    "from rag.embed import compute_similarities, get_query_strings, get_document_contents\n",
    "\n",
    "similarities = compute_similarities(\n",
    "    \"Qwen/Qwen3-Embedding-8B\",\n",
    "    queries=get_query_strings(benchmark),\n",
    "    documents=get_document_contents(documents),\n",
    ")"
   ]
  },
  {
   "cell_type": "code",
   "execution_count": 5,
   "id": "1abfd515-b788-43b7-9d8b-51f712079385",
   "metadata": {},
   "outputs": [
    {
     "name": "stdout",
     "output_type": "stream",
     "text": [
      "Baseline Evaluation\n",
      "precision @ 1 :  0.2792, recall @ 1 :  0.1391\n",
      "precision @ 2 :  0.2315, recall @ 2 :  0.1941\n",
      "precision @ 4 :  0.1985, recall @ 4 :  0.2815\n",
      "precision @ 8 :  0.1567, recall @ 8 :  0.4318\n",
      "precision @ 16:  0.1129, recall @ 16:  0.5714\n",
      "precision @ 32:  0.0832, recall @ 32:  0.7550\n",
      "precision @ 64:  0.0560, recall @ 64:  0.9118\n",
      "AUC: 0.09505790538681338\n"
     ]
    }
   ],
   "source": [
    "import torch\n",
    "\n",
    "from rag.metrics import print_evaluations\n",
    "\n",
    "\n",
    "ranks = torch.argsort(similarities, descending=True)\n",
    "\n",
    "print(\"Baseline Evaluation\")\n",
    "print_evaluations(benchmark, documents, ranks)"
   ]
  },
  {
   "cell_type": "code",
   "execution_count": 6,
   "id": "29c16a2e-2c5a-4337-b023-d656057aba91",
   "metadata": {},
   "outputs": [
    {
     "data": {
      "application/vnd.jupyter.widget-view+json": {
       "model_id": "bc93920b68194f68ac33f42905ded7fd",
       "version_major": 2,
       "version_minor": 0
      },
      "text/plain": [
       "Loading checkpoint shards:   0%|          | 0/2 [00:00<?, ?it/s]"
      ]
     },
     "metadata": {},
     "output_type": "display_data"
    },
    {
     "data": {
      "application/vnd.jupyter.widget-view+json": {
       "model_id": "bedd5333d6e946fe999727c74a2d4750",
       "version_major": 2,
       "version_minor": 0
      },
      "text/plain": [
       "  0%|          | 0/194 [00:00<?, ?it/s]"
      ]
     },
     "metadata": {},
     "output_type": "display_data"
    },
    {
     "name": "stderr",
     "output_type": "stream",
     "text": [
      "/home/joshuachin/miniconda3/envs/RAG-2/lib/python3.12/site-packages/bitsandbytes/autograd/_functions.py:186: UserWarning: MatMul8bitLt: inputs will be cast from torch.bfloat16 to float16 during quantization\n",
      "  warnings.warn(f\"MatMul8bitLt: inputs will be cast from {A.dtype} to float16 during quantization\")\n"
     ]
    }
   ],
   "source": [
    "from tqdm.notebook import tqdm\n",
    "import torch\n",
    "\n",
    "from rag.rerank import rerank\n",
    "\n",
    "\n",
    "model_path = \"ContextualAI/ctxl-rerank-v2-instruct-multilingual-2b\"\n",
    "TOP_K = 64\n",
    "\n",
    "ranks = torch.argsort(similarities, descending=True)\n",
    "reranks = rerank(benchmark, documents, ranks, model_path=model_path, topk=TOP_K)"
   ]
  },
  {
   "cell_type": "code",
   "execution_count": 7,
   "id": "095e62c3-52b8-415e-8943-21d0306fdd0b",
   "metadata": {},
   "outputs": [
    {
     "name": "stdout",
     "output_type": "stream",
     "text": [
      "Reranked (K=64) Evaluation\n",
      "precision @ 1 :  0.3503, recall @ 1 :  0.1872\n",
      "precision @ 2 :  0.3093, recall @ 2 :  0.2701\n",
      "precision @ 4 :  0.2496, recall @ 4 :  0.3711\n",
      "precision @ 8 :  0.1868, recall @ 8 :  0.5255\n",
      "precision @ 16:  0.1314, recall @ 16:  0.6640\n",
      "precision @ 32:  0.0868, recall @ 32:  0.8110\n",
      "precision @ 64:  0.0560, recall @ 64:  0.9118\n",
      "AUC: 0.14905464393659612\n"
     ]
    }
   ],
   "source": [
    "print(f\"Reranked (K={TOP_K}) Evaluation\")\n",
    "print_evaluations(benchmark, documents, reranks)"
   ]
  },
  {
   "cell_type": "code",
   "execution_count": null,
   "id": "4734982e-f33c-464d-a7da-7f642a80b1ce",
   "metadata": {},
   "outputs": [],
   "source": []
  }
 ],
 "metadata": {
  "kernelspec": {
   "display_name": "Python 3 (ipykernel)",
   "language": "python",
   "name": "python3"
  },
  "language_info": {
   "codemirror_mode": {
    "name": "ipython",
    "version": 3
   },
   "file_extension": ".py",
   "mimetype": "text/x-python",
   "name": "python",
   "nbconvert_exporter": "python",
   "pygments_lexer": "ipython3",
   "version": "3.12.0"
  }
 },
 "nbformat": 4,
 "nbformat_minor": 5
}
